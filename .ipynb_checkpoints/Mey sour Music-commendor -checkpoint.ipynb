{
 "cells": [
  {
   "cell_type": "markdown",
   "id": "a125a79a",
   "metadata": {},
   "source": [
    "# Music Recommendor \n"
   ]
  },
  {
   "cell_type": "raw",
   "id": "839d2f82",
   "metadata": {},
   "source": [
    "Uploading our libraries "
   ]
  },
  {
   "cell_type": "code",
   "execution_count": 1,
   "id": "fb656b73",
   "metadata": {},
   "outputs": [],
   "source": [
    "from bs4 import BeautifulSoup\n",
    "import requests\n",
    "import pandas as pd\n",
    "import pickle \n",
    "import random\n",
    "import spotipy\n",
    "from spotipy.oauth2 import SpotifyClientCredentials\n",
    "import pandas as pd\n",
    "import numpy as np\n",
    "from sklearn.cluster import KMeans\n",
    "from sklearn import cluster, datasets\n",
    "from sklearn.preprocessing import StandardScaler\n",
    "\n",
    "from matplotlib.lines import Line2D"
   ]
  },
  {
   "cell_type": "raw",
   "id": "11c2918b",
   "metadata": {},
   "source": [
    "Unpickeling our data "
   ]
  },
  {
   "cell_type": "code",
   "execution_count": 2,
   "id": "86f2ad87",
   "metadata": {},
   "outputs": [
    {
     "ename": "FileNotFoundError",
     "evalue": "[Errno 2] No such file or directory: 'model.p'",
     "output_type": "error",
     "traceback": [
      "\u001b[1;31m---------------------------------------------------------------------------\u001b[0m",
      "\u001b[1;31mFileNotFoundError\u001b[0m                         Traceback (most recent call last)",
      "Cell \u001b[1;32mIn[2], line 1\u001b[0m\n\u001b[1;32m----> 1\u001b[0m kmeans \u001b[38;5;241m=\u001b[39m pickle\u001b[38;5;241m.\u001b[39mload(\u001b[38;5;28;43mopen\u001b[39;49m\u001b[43m(\u001b[49m\u001b[38;5;124;43m'\u001b[39;49m\u001b[38;5;124;43mmodel.p\u001b[39;49m\u001b[38;5;124;43m'\u001b[39;49m\u001b[43m,\u001b[49m\u001b[43m \u001b[49m\u001b[38;5;124;43m'\u001b[39;49m\u001b[38;5;124;43mrb\u001b[39;49m\u001b[38;5;124;43m'\u001b[39;49m\u001b[43m)\u001b[49m)\n\u001b[0;32m      2\u001b[0m transformer \u001b[38;5;241m=\u001b[39m pickle\u001b[38;5;241m.\u001b[39mload(\u001b[38;5;28mopen\u001b[39m(\u001b[38;5;124m'\u001b[39m\u001b[38;5;124mtransformer.p\u001b[39m\u001b[38;5;124m'\u001b[39m,\u001b[38;5;124m'\u001b[39m\u001b[38;5;124mrb\u001b[39m\u001b[38;5;124m'\u001b[39m))\n",
      "File \u001b[1;32m~\\AppData\\Roaming\\Python\\Python310\\site-packages\\IPython\\core\\interactiveshell.py:284\u001b[0m, in \u001b[0;36m_modified_open\u001b[1;34m(file, *args, **kwargs)\u001b[0m\n\u001b[0;32m    277\u001b[0m \u001b[38;5;28;01mif\u001b[39;00m file \u001b[38;5;129;01min\u001b[39;00m {\u001b[38;5;241m0\u001b[39m, \u001b[38;5;241m1\u001b[39m, \u001b[38;5;241m2\u001b[39m}:\n\u001b[0;32m    278\u001b[0m     \u001b[38;5;28;01mraise\u001b[39;00m \u001b[38;5;167;01mValueError\u001b[39;00m(\n\u001b[0;32m    279\u001b[0m         \u001b[38;5;124mf\u001b[39m\u001b[38;5;124m\"\u001b[39m\u001b[38;5;124mIPython won\u001b[39m\u001b[38;5;124m'\u001b[39m\u001b[38;5;124mt let you open fd=\u001b[39m\u001b[38;5;132;01m{\u001b[39;00mfile\u001b[38;5;132;01m}\u001b[39;00m\u001b[38;5;124m by default \u001b[39m\u001b[38;5;124m\"\u001b[39m\n\u001b[0;32m    280\u001b[0m         \u001b[38;5;124m\"\u001b[39m\u001b[38;5;124mas it is likely to crash IPython. If you know what you are doing, \u001b[39m\u001b[38;5;124m\"\u001b[39m\n\u001b[0;32m    281\u001b[0m         \u001b[38;5;124m\"\u001b[39m\u001b[38;5;124myou can use builtins\u001b[39m\u001b[38;5;124m'\u001b[39m\u001b[38;5;124m open.\u001b[39m\u001b[38;5;124m\"\u001b[39m\n\u001b[0;32m    282\u001b[0m     )\n\u001b[1;32m--> 284\u001b[0m \u001b[38;5;28;01mreturn\u001b[39;00m io_open(file, \u001b[38;5;241m*\u001b[39margs, \u001b[38;5;241m*\u001b[39m\u001b[38;5;241m*\u001b[39mkwargs)\n",
      "\u001b[1;31mFileNotFoundError\u001b[0m: [Errno 2] No such file or directory: 'model.p'"
     ]
    }
   ],
   "source": [
    "kmeans = pickle.load(open('model.p', 'rb'))\n",
    "transformer = pickle.load(open('transformer.p','rb'))"
   ]
  },
  {
   "cell_type": "code",
   "execution_count": null,
   "id": "63647985",
   "metadata": {},
   "outputs": [],
   "source": [
    "top100 = pd.read_csv('top100.csv')\n",
    "Song_cluster = pd.read_csv('Song_cluster.csv')\n",
    "Audio_features = pd.read_csv('Audio_features.csv')"
   ]
  },
  {
   "cell_type": "raw",
   "id": "7dcb0615",
   "metadata": {},
   "source": [
    "Spotify Authentification"
   ]
  },
  {
   "cell_type": "code",
   "execution_count": null,
   "id": "39f7168c",
   "metadata": {},
   "outputs": [],
   "source": [
    "secrets_file = open(\"secrets.txt\",\"r\")\n",
    "string = secrets_file.read()\n",
    "string\n",
    "string.split('\\n')\n",
    "secrets_dict={}\n",
    "for line in string.split('\\n'):\n",
    "    if len(line) > 0:\n",
    "        secrets_dict[line.split(':')[0]]=line.split(':')[1].strip()\n",
    "\n",
    "secrets_dict"
   ]
  },
  {
   "cell_type": "code",
   "execution_count": null,
   "id": "c6375ec1",
   "metadata": {},
   "outputs": [],
   "source": [
    "import spotipy\n",
    "from spotipy.oauth2 import SpotifyClientCredentials\n",
    "\n",
    "#Initialize SpotiPy with user credentials\n",
    "sp = spotipy.Spotify(auth_manager=SpotifyClientCredentials(client_id=secrets_dict['cid'],\n",
    "                                                           client_secret=secrets_dict['csecret']))"
   ]
  },
  {
   "cell_type": "raw",
   "id": "44b60981",
   "metadata": {},
   "source": [
    "Recommendor Functions \n"
   ]
  },
  {
   "cell_type": "code",
   "execution_count": null,
   "id": "3590c3dd",
   "metadata": {},
   "outputs": [],
   "source": [
    "def search_track(sp, song_title):\n",
    "    track = sp.search(q=song_title)\n",
    "    track_uri = [track['tracks']['items'][0]['uri']]\n",
    "    return track_uri\n",
    "\n",
    "def get_audio_features(sp, track_uri):\n",
    "    audio_features = sp.audio_features(track_uri)\n",
    "    return audio_features\n",
    "\n",
    "def create_audio_features_df(audio_features, transformer):\n",
    "    audio_features_df = pd.DataFrame(audio_features)\n",
    "    audio_feats = audio_features_df.select_dtypes(include='number')\n",
    "    transformed_audio_feats = pd.DataFrame(transformer.transform(audio_feats), columns=audio_feats.columns)\n",
    "    return transformed_audio_feats\n",
    "\n",
    "def predict_track_cluster(kmeans, audio_feats):\n",
    "    track_cluster = kmeans.predict(audio_feats)\n",
    "    return track_cluster\n",
    "\n",
    "def display_recommendations(df, track_cluster):\n",
    "    rec = df[(df['cluster'] == track_cluster[0])].sample().reset_index(drop=True)\n",
    "        #display(rec[['Track','Artist']])\n",
    "        \n",
    "    print('My recommendation is '+ str(rec['Track'][0]) + 'from the artist ' + str(rec['Artist'][0]))\n",
    "     \n"
   ]
  },
  {
   "cell_type": "raw",
   "id": "091e4e96",
   "metadata": {},
   "source": [
    "Music recommendor "
   ]
  },
  {
   "cell_type": "code",
   "execution_count": null,
   "id": "9a52c495",
   "metadata": {},
   "outputs": [],
   "source": [
    "song_title = input(\"Enter the song title: \")\n"
   ]
  },
  {
   "cell_type": "code",
   "execution_count": null,
   "id": "facf7248",
   "metadata": {},
   "outputs": [],
   "source": [
    "x = random.randint(0,100)\n",
    "# check if the song is in the DataFrame\n",
    "if song_title in top100['title'].values:\n",
    "    # if the song is in the DataFrame, recommend a different song\n",
    "    recommended_song = top100.loc[top100['title'] != song_title, 'title'].iloc[x]\n",
    "    print(\"This is a Hit now! You might like:\", recommended_song)\n",
    "    \n",
    "else:\n",
    "    track_uri = search_track(sp, \"song_title\")\n",
    "    audio_features = get_audio_features(sp, track_uri)\n",
    "    transformed_audio_feats = create_audio_features_df(audio_features, transformer)\n",
    "    track_cluster = predict_track_cluster(kmeans, transformed_audio_feats)\n",
    "    display_recommendations(Song_cluster, track_cluster)\n"
   ]
  },
  {
   "cell_type": "code",
   "execution_count": null,
   "id": "a8267f3a",
   "metadata": {},
   "outputs": [],
   "source": []
  }
 ],
 "metadata": {
  "kernelspec": {
   "display_name": "Python 3 (ipykernel)",
   "language": "python",
   "name": "python3"
  },
  "language_info": {
   "codemirror_mode": {
    "name": "ipython",
    "version": 3
   },
   "file_extension": ".py",
   "mimetype": "text/x-python",
   "name": "python",
   "nbconvert_exporter": "python",
   "pygments_lexer": "ipython3",
   "version": "3.10.9"
  }
 },
 "nbformat": 4,
 "nbformat_minor": 5
}
