{
 "cells": [
  {
   "cell_type": "markdown",
   "id": "8a2f1160",
   "metadata": {},
   "source": [
    "## MUSIC RECOMMENDADOR"
   ]
  },
  {
   "cell_type": "markdown",
   "id": "75d5f89b",
   "metadata": {},
   "source": [
    "#### Schema \n",
    "If input song in list(hot100 titles):\n",
    "Recommend another hot 100 song\n",
    "\n",
    "Else:\n",
    "Connect to spotipy with credentials\n",
    "Search the input_song for the song ID on Spotify\n",
    "With song_id find uri for song\n",
    "Use URI to get the audio_features for the song\n",
    "Put the audio_feeatures into a single row dataframe\n",
    "Use scaler to scale the single row\n",
    "Use the Kmeans model to predict the cluster for the input_song\n",
    "Recommend another song from the same cluster"
   ]
  },
  {
   "cell_type": "markdown",
   "id": "ef826de1",
   "metadata": {},
   "source": [
    "### Import all libraries to be used"
   ]
  },
  {
   "cell_type": "code",
   "execution_count": 34,
   "id": "7edcac83",
   "metadata": {},
   "outputs": [],
   "source": [
    "import random\n",
    "import pickle\n",
    "import pandas as pd\n",
    "import spotipy\n",
    "from spotipy.oauth2 import SpotifyClientCredentials\n",
    "import numpy as np\n",
    "from sklearn.cluster import KMeans\n",
    "from sklearn import cluster, datasets\n",
    "from sklearn.preprocessing import StandardScaler"
   ]
  },
  {
   "cell_type": "markdown",
   "id": "7f81385f",
   "metadata": {},
   "source": [
    "#### Connection to Spotify"
   ]
  },
  {
   "cell_type": "code",
   "execution_count": 3,
   "id": "3b9b708f",
   "metadata": {},
   "outputs": [],
   "source": [
    "import spotipy\n",
    "from spotipy.oauth2 import SpotifyClientCredentials\n",
    "\n",
    "secrets_file = open(\"secrets.txt\",\"r\")\n",
    "\n",
    "string = secrets_file.read()\n",
    "\n",
    "secrets_dict={}\n",
    "for line in string.split('\\n'):\n",
    "    if len(line) > 0:\n",
    "        secrets_dict[line.split(':')[0]]=line.split(':')[1].strip()"
   ]
  },
  {
   "cell_type": "markdown",
   "id": "ad784164",
   "metadata": {},
   "source": [
    "### Pickle save your kmeans model and scaler to use again"
   ]
  },
  {
   "cell_type": "code",
   "execution_count": 11,
   "id": "5f5da758",
   "metadata": {
    "scrolled": true
   },
   "outputs": [
    {
     "ename": "FileNotFoundError",
     "evalue": "[Errno 2] No such file or directory: 'kmeans.pkl'",
     "output_type": "error",
     "traceback": [
      "\u001b[1;31m---------------------------------------------------------------------------\u001b[0m",
      "\u001b[1;31mFileNotFoundError\u001b[0m                         Traceback (most recent call last)",
      "Cell \u001b[1;32mIn[11], line 6\u001b[0m\n\u001b[0;32m      1\u001b[0m \u001b[38;5;66;03m#I DID NOT ATTEND WHEN WE HAD TO SAVE AN SCALER.PKL AND KMEANS.PKL FOR THIS LAB\u001b[39;00m\n\u001b[0;32m      2\u001b[0m \u001b[38;5;66;03m#The open() function is used to open the file in binary mode ('rb'), which is required for reading binary files.\u001b[39;00m\n\u001b[0;32m      3\u001b[0m \u001b[38;5;66;03m#The pickle.load() function is then used to deserialize the object from the file.\u001b[39;00m\n\u001b[0;32m      5\u001b[0m scaler \u001b[38;5;241m=\u001b[39m pickle\u001b[38;5;241m.\u001b[39mload(\u001b[38;5;28mopen\u001b[39m(\u001b[38;5;124m'\u001b[39m\u001b[38;5;124mmodel.pkl\u001b[39m\u001b[38;5;124m'\u001b[39m,\u001b[38;5;124m'\u001b[39m\u001b[38;5;124mrb\u001b[39m\u001b[38;5;124m'\u001b[39m))\n\u001b[1;32m----> 6\u001b[0m kmeans \u001b[38;5;241m=\u001b[39m pickle\u001b[38;5;241m.\u001b[39mload(\u001b[38;5;28;43mopen\u001b[39;49m\u001b[43m(\u001b[49m\u001b[38;5;124;43m'\u001b[39;49m\u001b[38;5;124;43mkmeans.pkl\u001b[39;49m\u001b[38;5;124;43m'\u001b[39;49m\u001b[43m,\u001b[49m\u001b[38;5;124;43m'\u001b[39;49m\u001b[38;5;124;43mrb\u001b[39;49m\u001b[38;5;124;43m'\u001b[39;49m\u001b[43m)\u001b[49m)\n",
      "File \u001b[1;32m~\\AppData\\Roaming\\Python\\Python310\\site-packages\\IPython\\core\\interactiveshell.py:284\u001b[0m, in \u001b[0;36m_modified_open\u001b[1;34m(file, *args, **kwargs)\u001b[0m\n\u001b[0;32m    277\u001b[0m \u001b[38;5;28;01mif\u001b[39;00m file \u001b[38;5;129;01min\u001b[39;00m {\u001b[38;5;241m0\u001b[39m, \u001b[38;5;241m1\u001b[39m, \u001b[38;5;241m2\u001b[39m}:\n\u001b[0;32m    278\u001b[0m     \u001b[38;5;28;01mraise\u001b[39;00m \u001b[38;5;167;01mValueError\u001b[39;00m(\n\u001b[0;32m    279\u001b[0m         \u001b[38;5;124mf\u001b[39m\u001b[38;5;124m\"\u001b[39m\u001b[38;5;124mIPython won\u001b[39m\u001b[38;5;124m'\u001b[39m\u001b[38;5;124mt let you open fd=\u001b[39m\u001b[38;5;132;01m{\u001b[39;00mfile\u001b[38;5;132;01m}\u001b[39;00m\u001b[38;5;124m by default \u001b[39m\u001b[38;5;124m\"\u001b[39m\n\u001b[0;32m    280\u001b[0m         \u001b[38;5;124m\"\u001b[39m\u001b[38;5;124mas it is likely to crash IPython. If you know what you are doing, \u001b[39m\u001b[38;5;124m\"\u001b[39m\n\u001b[0;32m    281\u001b[0m         \u001b[38;5;124m\"\u001b[39m\u001b[38;5;124myou can use builtins\u001b[39m\u001b[38;5;124m'\u001b[39m\u001b[38;5;124m open.\u001b[39m\u001b[38;5;124m\"\u001b[39m\n\u001b[0;32m    282\u001b[0m     )\n\u001b[1;32m--> 284\u001b[0m \u001b[38;5;28;01mreturn\u001b[39;00m io_open(file, \u001b[38;5;241m*\u001b[39margs, \u001b[38;5;241m*\u001b[39m\u001b[38;5;241m*\u001b[39mkwargs)\n",
      "\u001b[1;31mFileNotFoundError\u001b[0m: [Errno 2] No such file or directory: 'kmeans.pkl'"
     ]
    }
   ],
   "source": [
    "#I DID NOT ATTEND WHEN WE HAD TO SAVE AN SCALER.PKL AND KMEANS.PKL FOR THIS LAB\n",
    "#The open() function is used to open the file in binary mode ('rb'), which is required for reading binary files.\n",
    "#The pickle.load() function is then used to deserialize the object from the file.\n",
    "\n",
    "scaler = pickle.load(open('model.pkl','rb'))\n",
    "kmeans = pickle.load(open('kmeans.pkl','rb'))"
   ]
  },
  {
   "cell_type": "code",
   "execution_count": 12,
   "id": "b25f0ba8",
   "metadata": {},
   "outputs": [
    {
     "ename": "UnsupportedOperation",
     "evalue": "read",
     "output_type": "error",
     "traceback": [
      "\u001b[1;31m---------------------------------------------------------------------------\u001b[0m",
      "\u001b[1;31mUnsupportedOperation\u001b[0m                      Traceback (most recent call last)",
      "Cell \u001b[1;32mIn[12], line 3\u001b[0m\n\u001b[0;32m      1\u001b[0m filename \u001b[38;5;241m=\u001b[39m \u001b[38;5;124m'\u001b[39m\u001b[38;5;124mcd.pkl\u001b[39m\u001b[38;5;124m'\u001b[39m\n\u001b[0;32m      2\u001b[0m \u001b[38;5;28;01mwith\u001b[39;00m \u001b[38;5;28mopen\u001b[39m(filename, \u001b[38;5;124m'\u001b[39m\u001b[38;5;124mwb\u001b[39m\u001b[38;5;124m'\u001b[39m) \u001b[38;5;28;01mas\u001b[39;00m f:\n\u001b[1;32m----> 3\u001b[0m     classification_dict \u001b[38;5;241m=\u001b[39m \u001b[43mpickle\u001b[49m\u001b[38;5;241;43m.\u001b[39;49m\u001b[43mload\u001b[49m\u001b[43m(\u001b[49m\u001b[43mf\u001b[49m\u001b[43m)\u001b[49m\n",
      "\u001b[1;31mUnsupportedOperation\u001b[0m: read"
     ]
    }
   ],
   "source": [
    "filename = 'cd.pkl'\n",
    "with open(filename, 'wb') as f:\n",
    "    classification_dict = pickle.load(f)"
   ]
  },
  {
   "cell_type": "code",
   "execution_count": 13,
   "id": "80e98c49",
   "metadata": {},
   "outputs": [
    {
     "ename": "FileNotFoundError",
     "evalue": "[Errno 2] No such file or directory: 'transformer.pkl'",
     "output_type": "error",
     "traceback": [
      "\u001b[1;31m---------------------------------------------------------------------------\u001b[0m",
      "\u001b[1;31mFileNotFoundError\u001b[0m                         Traceback (most recent call last)",
      "Cell \u001b[1;32mIn[13], line 2\u001b[0m\n\u001b[0;32m      1\u001b[0m kmeans \u001b[38;5;241m=\u001b[39m pickle\u001b[38;5;241m.\u001b[39mload(\u001b[38;5;28mopen\u001b[39m(\u001b[38;5;124m'\u001b[39m\u001b[38;5;124mmodel.pkl\u001b[39m\u001b[38;5;124m'\u001b[39m, \u001b[38;5;124m'\u001b[39m\u001b[38;5;124mrb\u001b[39m\u001b[38;5;124m'\u001b[39m))\n\u001b[1;32m----> 2\u001b[0m transformer \u001b[38;5;241m=\u001b[39m pickle\u001b[38;5;241m.\u001b[39mload(\u001b[38;5;28;43mopen\u001b[39;49m\u001b[43m(\u001b[49m\u001b[38;5;124;43m'\u001b[39;49m\u001b[38;5;124;43mtransformer.pkl\u001b[39;49m\u001b[38;5;124;43m'\u001b[39;49m\u001b[43m,\u001b[49m\u001b[38;5;124;43m'\u001b[39;49m\u001b[38;5;124;43mrb\u001b[39;49m\u001b[38;5;124;43m'\u001b[39;49m\u001b[43m)\u001b[49m)\n",
      "File \u001b[1;32m~\\AppData\\Roaming\\Python\\Python310\\site-packages\\IPython\\core\\interactiveshell.py:284\u001b[0m, in \u001b[0;36m_modified_open\u001b[1;34m(file, *args, **kwargs)\u001b[0m\n\u001b[0;32m    277\u001b[0m \u001b[38;5;28;01mif\u001b[39;00m file \u001b[38;5;129;01min\u001b[39;00m {\u001b[38;5;241m0\u001b[39m, \u001b[38;5;241m1\u001b[39m, \u001b[38;5;241m2\u001b[39m}:\n\u001b[0;32m    278\u001b[0m     \u001b[38;5;28;01mraise\u001b[39;00m \u001b[38;5;167;01mValueError\u001b[39;00m(\n\u001b[0;32m    279\u001b[0m         \u001b[38;5;124mf\u001b[39m\u001b[38;5;124m\"\u001b[39m\u001b[38;5;124mIPython won\u001b[39m\u001b[38;5;124m'\u001b[39m\u001b[38;5;124mt let you open fd=\u001b[39m\u001b[38;5;132;01m{\u001b[39;00mfile\u001b[38;5;132;01m}\u001b[39;00m\u001b[38;5;124m by default \u001b[39m\u001b[38;5;124m\"\u001b[39m\n\u001b[0;32m    280\u001b[0m         \u001b[38;5;124m\"\u001b[39m\u001b[38;5;124mas it is likely to crash IPython. If you know what you are doing, \u001b[39m\u001b[38;5;124m\"\u001b[39m\n\u001b[0;32m    281\u001b[0m         \u001b[38;5;124m\"\u001b[39m\u001b[38;5;124myou can use builtins\u001b[39m\u001b[38;5;124m'\u001b[39m\u001b[38;5;124m open.\u001b[39m\u001b[38;5;124m\"\u001b[39m\n\u001b[0;32m    282\u001b[0m     )\n\u001b[1;32m--> 284\u001b[0m \u001b[38;5;28;01mreturn\u001b[39;00m io_open(file, \u001b[38;5;241m*\u001b[39margs, \u001b[38;5;241m*\u001b[39m\u001b[38;5;241m*\u001b[39mkwargs)\n",
      "\u001b[1;31mFileNotFoundError\u001b[0m: [Errno 2] No such file or directory: 'transformer.pkl'"
     ]
    }
   ],
   "source": [
    "kmeans = pickle.load(open('model.pkl', 'rb'))\n",
    "transformer = pickle.load(open('transformer.pkl','rb'))"
   ]
  },
  {
   "cell_type": "markdown",
   "id": "c4f28089",
   "metadata": {},
   "source": [
    "### Import all needed .csv files and pickles"
   ]
  },
  {
   "cell_type": "code",
   "execution_count": 14,
   "id": "6a44e345",
   "metadata": {},
   "outputs": [],
   "source": [
    "clus_playlist = pd.read_csv(\"clus_playlist.csv\")\n",
    "top_100 = pd.read_csv(\"music_top100.csv\")"
   ]
  },
  {
   "cell_type": "code",
   "execution_count": 46,
   "id": "02f098cd",
   "metadata": {},
   "outputs": [
    {
     "data": {
      "text/html": [
       "<div>\n",
       "<style scoped>\n",
       "    .dataframe tbody tr th:only-of-type {\n",
       "        vertical-align: middle;\n",
       "    }\n",
       "\n",
       "    .dataframe tbody tr th {\n",
       "        vertical-align: top;\n",
       "    }\n",
       "\n",
       "    .dataframe thead th {\n",
       "        text-align: right;\n",
       "    }\n",
       "</style>\n",
       "<table border=\"1\" class=\"dataframe\">\n",
       "  <thead>\n",
       "    <tr style=\"text-align: right;\">\n",
       "      <th></th>\n",
       "      <th>title</th>\n",
       "      <th>artist</th>\n",
       "    </tr>\n",
       "  </thead>\n",
       "  <tbody>\n",
       "    <tr>\n",
       "      <th>0</th>\n",
       "      <td>81 Million Votes, My Ass</td>\n",
       "      <td>The Truth Bombers &amp; Kari Lake</td>\n",
       "    </tr>\n",
       "    <tr>\n",
       "      <th>1</th>\n",
       "      <td>Fast Car</td>\n",
       "      <td>Luke Combs</td>\n",
       "    </tr>\n",
       "    <tr>\n",
       "      <th>2</th>\n",
       "      <td>Last Night</td>\n",
       "      <td>Morgan Wallen</td>\n",
       "    </tr>\n",
       "    <tr>\n",
       "      <th>3</th>\n",
       "      <td>Take Two</td>\n",
       "      <td>BTS</td>\n",
       "    </tr>\n",
       "    <tr>\n",
       "      <th>4</th>\n",
       "      <td>Need A Favor</td>\n",
       "      <td>Jelly Roll</td>\n",
       "    </tr>\n",
       "  </tbody>\n",
       "</table>\n",
       "</div>"
      ],
      "text/plain": [
       "                      title                         artist\n",
       "0  81 Million Votes, My Ass  The Truth Bombers & Kari Lake\n",
       "1                  Fast Car                     Luke Combs\n",
       "2                Last Night                  Morgan Wallen\n",
       "3                  Take Two                            BTS\n",
       "4              Need A Favor                     Jelly Roll"
      ]
     },
     "execution_count": 46,
     "metadata": {},
     "output_type": "execute_result"
    }
   ],
   "source": [
    "top_100.head()"
   ]
  },
  {
   "cell_type": "code",
   "execution_count": 15,
   "id": "c9e77b7a",
   "metadata": {},
   "outputs": [
    {
     "data": {
      "text/plain": [
       "Index(['Title', 'Artist', 'Cluster'], dtype='object')"
      ]
     },
     "execution_count": 15,
     "metadata": {},
     "output_type": "execute_result"
    }
   ],
   "source": [
    "clus_playlist.columns"
   ]
  },
  {
   "cell_type": "code",
   "execution_count": 16,
   "id": "84e12514",
   "metadata": {},
   "outputs": [
    {
     "data": {
      "text/html": [
       "<div>\n",
       "<style scoped>\n",
       "    .dataframe tbody tr th:only-of-type {\n",
       "        vertical-align: middle;\n",
       "    }\n",
       "\n",
       "    .dataframe tbody tr th {\n",
       "        vertical-align: top;\n",
       "    }\n",
       "\n",
       "    .dataframe thead th {\n",
       "        text-align: right;\n",
       "    }\n",
       "</style>\n",
       "<table border=\"1\" class=\"dataframe\">\n",
       "  <thead>\n",
       "    <tr style=\"text-align: right;\">\n",
       "      <th></th>\n",
       "      <th>title</th>\n",
       "      <th>artist</th>\n",
       "    </tr>\n",
       "  </thead>\n",
       "  <tbody>\n",
       "    <tr>\n",
       "      <th>0</th>\n",
       "      <td>81 Million Votes, My Ass</td>\n",
       "      <td>The Truth Bombers &amp; Kari Lake</td>\n",
       "    </tr>\n",
       "    <tr>\n",
       "      <th>1</th>\n",
       "      <td>Fast Car</td>\n",
       "      <td>Luke Combs</td>\n",
       "    </tr>\n",
       "    <tr>\n",
       "      <th>2</th>\n",
       "      <td>Last Night</td>\n",
       "      <td>Morgan Wallen</td>\n",
       "    </tr>\n",
       "    <tr>\n",
       "      <th>3</th>\n",
       "      <td>Take Two</td>\n",
       "      <td>BTS</td>\n",
       "    </tr>\n",
       "    <tr>\n",
       "      <th>4</th>\n",
       "      <td>Need A Favor</td>\n",
       "      <td>Jelly Roll</td>\n",
       "    </tr>\n",
       "  </tbody>\n",
       "</table>\n",
       "</div>"
      ],
      "text/plain": [
       "                      title                         artist\n",
       "0  81 Million Votes, My Ass  The Truth Bombers & Kari Lake\n",
       "1                  Fast Car                     Luke Combs\n",
       "2                Last Night                  Morgan Wallen\n",
       "3                  Take Two                            BTS\n",
       "4              Need A Favor                     Jelly Roll"
      ]
     },
     "execution_count": 16,
     "metadata": {},
     "output_type": "execute_result"
    }
   ],
   "source": [
    "top_100.head()"
   ]
  },
  {
   "cell_type": "markdown",
   "id": "ef6d6e7d",
   "metadata": {},
   "source": [
    "### Spotify Authetification"
   ]
  },
  {
   "cell_type": "code",
   "execution_count": 17,
   "id": "1606fb02",
   "metadata": {},
   "outputs": [],
   "source": [
    "secrets_dict={} #convert the clientid and clientsecrets into dictionaries\n",
    "for line in string.split('\\n'):\n",
    "    if len(line) > 0: #if I don't have an empty line do next line.\n",
    "        secrets_dict[line.split(':')[0]]=line.split(':')[1].strip() #.strip remove xtra spaces."
   ]
  },
  {
   "cell_type": "code",
   "execution_count": 18,
   "id": "c0786593",
   "metadata": {},
   "outputs": [],
   "source": [
    "import spotipy\n",
    "from spotipy.oauth2 import SpotifyClientCredentials\n",
    "\n",
    "#Initialize SpotiPy with user credentials\n",
    "sp = spotipy.Spotify(auth_manager=SpotifyClientCredentials(client_id=secrets_dict['clientid'],\n",
    "                                                           client_secret=secrets_dict['clientsecret']))"
   ]
  },
  {
   "cell_type": "code",
   "execution_count": 19,
   "id": "ed3c79e8",
   "metadata": {},
   "outputs": [
    {
     "data": {
      "text/html": [
       "<div>\n",
       "<style scoped>\n",
       "    .dataframe tbody tr th:only-of-type {\n",
       "        vertical-align: middle;\n",
       "    }\n",
       "\n",
       "    .dataframe tbody tr th {\n",
       "        vertical-align: top;\n",
       "    }\n",
       "\n",
       "    .dataframe thead th {\n",
       "        text-align: right;\n",
       "    }\n",
       "</style>\n",
       "<table border=\"1\" class=\"dataframe\">\n",
       "  <thead>\n",
       "    <tr style=\"text-align: right;\">\n",
       "      <th></th>\n",
       "      <th>Title</th>\n",
       "      <th>Artist</th>\n",
       "      <th>Cluster</th>\n",
       "    </tr>\n",
       "  </thead>\n",
       "  <tbody>\n",
       "    <tr>\n",
       "      <th>0</th>\n",
       "      <td>You're The One - Un mal pour un bien</td>\n",
       "      <td>Petula Clark</td>\n",
       "      <td>1</td>\n",
       "    </tr>\n",
       "    <tr>\n",
       "      <th>1</th>\n",
       "      <td>Doctor My Eyes</td>\n",
       "      <td>Jackson Browne</td>\n",
       "      <td>4</td>\n",
       "    </tr>\n",
       "    <tr>\n",
       "      <th>2</th>\n",
       "      <td>Falling in Love at a Coffee Shop</td>\n",
       "      <td>Landon Pigg</td>\n",
       "      <td>0</td>\n",
       "    </tr>\n",
       "    <tr>\n",
       "      <th>3</th>\n",
       "      <td>Peaceful Easy Feeling - 2013 Remaster</td>\n",
       "      <td>Eagles</td>\n",
       "      <td>0</td>\n",
       "    </tr>\n",
       "    <tr>\n",
       "      <th>4</th>\n",
       "      <td>Summertime Blues</td>\n",
       "      <td>Eddie Cochran</td>\n",
       "      <td>1</td>\n",
       "    </tr>\n",
       "    <tr>\n",
       "      <th>...</th>\n",
       "      <td>...</td>\n",
       "      <td>...</td>\n",
       "      <td>...</td>\n",
       "    </tr>\n",
       "    <tr>\n",
       "      <th>10117</th>\n",
       "      <td>Elements (Deluxe)</td>\n",
       "      <td>Ludovico Einaudi</td>\n",
       "      <td>3</td>\n",
       "    </tr>\n",
       "    <tr>\n",
       "      <th>10118</th>\n",
       "      <td>Moon Safari</td>\n",
       "      <td>Air</td>\n",
       "      <td>0</td>\n",
       "    </tr>\n",
       "    <tr>\n",
       "      <th>10119</th>\n",
       "      <td>Islands - Essential Einaudi</td>\n",
       "      <td>Ludovico Einaudi</td>\n",
       "      <td>3</td>\n",
       "    </tr>\n",
       "    <tr>\n",
       "      <th>10120</th>\n",
       "      <td>Liquid Mind II: Slow World</td>\n",
       "      <td>Liquid Mind</td>\n",
       "      <td>5</td>\n",
       "    </tr>\n",
       "    <tr>\n",
       "      <th>10121</th>\n",
       "      <td>Liquid Mind XI: Deep Sleep</td>\n",
       "      <td>Liquid Mind</td>\n",
       "      <td>3</td>\n",
       "    </tr>\n",
       "  </tbody>\n",
       "</table>\n",
       "<p>10122 rows × 3 columns</p>\n",
       "</div>"
      ],
      "text/plain": [
       "                                       Title            Artist  Cluster\n",
       "0       You're The One - Un mal pour un bien      Petula Clark        1\n",
       "1                             Doctor My Eyes    Jackson Browne        4\n",
       "2           Falling in Love at a Coffee Shop       Landon Pigg        0\n",
       "3      Peaceful Easy Feeling - 2013 Remaster            Eagles        0\n",
       "4                           Summertime Blues     Eddie Cochran        1\n",
       "...                                      ...               ...      ...\n",
       "10117                      Elements (Deluxe)  Ludovico Einaudi        3\n",
       "10118                            Moon Safari               Air        0\n",
       "10119            Islands - Essential Einaudi  Ludovico Einaudi        3\n",
       "10120             Liquid Mind II: Slow World       Liquid Mind        5\n",
       "10121             Liquid Mind XI: Deep Sleep       Liquid Mind        3\n",
       "\n",
       "[10122 rows x 3 columns]"
      ]
     },
     "execution_count": 19,
     "metadata": {},
     "output_type": "execute_result"
    }
   ],
   "source": [
    "clus_playlist"
   ]
  },
  {
   "cell_type": "code",
   "execution_count": 23,
   "id": "b00f4ac8",
   "metadata": {},
   "outputs": [
    {
     "name": "stdout",
     "output_type": "stream",
     "text": [
      "Enter a song name: Last Night\n"
     ]
    }
   ],
   "source": [
    "song = input(\"Enter a song name: \")\n",
    "is_song_in_list = clus_playlist['Title'].isin([song]).any()\n",
    "client_id=secrets_dict['clientid']\n",
    "client_secret=secrets_dict['clientsecret']\n",
    "\n",
    "song = sp.search(q=song, type='track', limit=1)\n",
    "uri = song['tracks']['items'][0]['uri']\n",
    "audio_features = sp.audio_features(uri)"
   ]
  },
  {
   "cell_type": "code",
   "execution_count": null,
   "id": "38dca9e2",
   "metadata": {},
   "outputs": [],
   "source": []
  },
  {
   "cell_type": "markdown",
   "id": "1da89c12",
   "metadata": {},
   "source": [
    "#### ITERATION LOOP WITH TOP 100 HOT PLAYLIST"
   ]
  },
  {
   "cell_type": "code",
   "execution_count": null,
   "id": "af3e65f4",
   "metadata": {},
   "outputs": [],
   "source": [
    "# the user to enter a song name\n",
    "user_input = input(\"Enter a song name: \")\n",
    "\n",
    "# Check if the user-provided song name is in the 'Title' column from top_100\n",
    "if user_input in top_100['title'].values:\n",
    "    print(\"Your song is in the Top 100!\")\n",
    "\n",
    "# Getting another song title from the top_100 (excluding the user's song)\n",
    "other_songs = top_100[top_100['title'] != user_input]['title']\n",
    "recommended_song = other_songs.sample(n=1).values[0]\n",
    "\n",
    "    print(\"Additionally, I highly recommend this song from the Top 100 playlist:\", recommended_song)\n",
    "else:\n",
    "    print(\"Your song is not in the Top 100.\")"
   ]
  },
  {
   "cell_type": "code",
   "execution_count": 30,
   "id": "c2c653c9",
   "metadata": {},
   "outputs": [
    {
     "data": {
      "text/plain": [
       "[{'danceability': 0.517,\n",
       "  'energy': 0.675,\n",
       "  'key': 6,\n",
       "  'loudness': -5.382,\n",
       "  'mode': 1,\n",
       "  'speechiness': 0.0357,\n",
       "  'acousticness': 0.459,\n",
       "  'instrumentalness': 0,\n",
       "  'liveness': 0.151,\n",
       "  'valence': 0.518,\n",
       "  'tempo': 203.853,\n",
       "  'type': 'audio_features',\n",
       "  'id': '59uQI0PADDKeE6UZDTJEe8',\n",
       "  'uri': 'spotify:track:59uQI0PADDKeE6UZDTJEe8',\n",
       "  'track_href': 'https://api.spotify.com/v1/tracks/59uQI0PADDKeE6UZDTJEe8',\n",
       "  'analysis_url': 'https://api.spotify.com/v1/audio-analysis/59uQI0PADDKeE6UZDTJEe8',\n",
       "  'duration_ms': 163855,\n",
       "  'time_signature': 4}]"
      ]
     },
     "execution_count": 30,
     "metadata": {},
     "output_type": "execute_result"
    }
   ],
   "source": [
    "audio_features"
   ]
  },
  {
   "cell_type": "code",
   "execution_count": 26,
   "id": "74c04412",
   "metadata": {},
   "outputs": [],
   "source": [
    "audio_features_df = pd.DataFrame(audio_features, index=[0])"
   ]
  },
  {
   "cell_type": "code",
   "execution_count": 31,
   "id": "47f415c9",
   "metadata": {},
   "outputs": [],
   "source": [
    "selected_columns = ['danceability', 'energy', 'loudness', 'speechiness', 'acousticness', 'instrumentalness', 'liveness', 'valence', 'tempo', 'duration_ms', 'time_signature']\n",
    "audio_song = audio_features_df[selected_columns]"
   ]
  },
  {
   "cell_type": "code",
   "execution_count": 32,
   "id": "742ce91f",
   "metadata": {},
   "outputs": [
    {
     "data": {
      "text/html": [
       "<div>\n",
       "<style scoped>\n",
       "    .dataframe tbody tr th:only-of-type {\n",
       "        vertical-align: middle;\n",
       "    }\n",
       "\n",
       "    .dataframe tbody tr th {\n",
       "        vertical-align: top;\n",
       "    }\n",
       "\n",
       "    .dataframe thead th {\n",
       "        text-align: right;\n",
       "    }\n",
       "</style>\n",
       "<table border=\"1\" class=\"dataframe\">\n",
       "  <thead>\n",
       "    <tr style=\"text-align: right;\">\n",
       "      <th></th>\n",
       "      <th>danceability</th>\n",
       "      <th>energy</th>\n",
       "      <th>loudness</th>\n",
       "      <th>speechiness</th>\n",
       "      <th>acousticness</th>\n",
       "      <th>instrumentalness</th>\n",
       "      <th>liveness</th>\n",
       "      <th>valence</th>\n",
       "      <th>tempo</th>\n",
       "      <th>duration_ms</th>\n",
       "      <th>time_signature</th>\n",
       "    </tr>\n",
       "  </thead>\n",
       "  <tbody>\n",
       "    <tr>\n",
       "      <th>0</th>\n",
       "      <td>0.517</td>\n",
       "      <td>0.675</td>\n",
       "      <td>-5.382</td>\n",
       "      <td>0.0357</td>\n",
       "      <td>0.459</td>\n",
       "      <td>0</td>\n",
       "      <td>0.151</td>\n",
       "      <td>0.518</td>\n",
       "      <td>203.853</td>\n",
       "      <td>163855</td>\n",
       "      <td>4</td>\n",
       "    </tr>\n",
       "  </tbody>\n",
       "</table>\n",
       "</div>"
      ],
      "text/plain": [
       "   danceability  energy  loudness  speechiness  acousticness  \\\n",
       "0         0.517   0.675    -5.382       0.0357         0.459   \n",
       "\n",
       "   instrumentalness  liveness  valence    tempo  duration_ms  time_signature  \n",
       "0                 0     0.151    0.518  203.853       163855               4  "
      ]
     },
     "execution_count": 32,
     "metadata": {},
     "output_type": "execute_result"
    }
   ],
   "source": [
    "audio_song "
   ]
  },
  {
   "cell_type": "code",
   "execution_count": null,
   "id": "ba69570a",
   "metadata": {},
   "outputs": [],
   "source": [
    "audio_song = scaler.transform(audio_song)"
   ]
  },
  {
   "cell_type": "code",
   "execution_count": null,
   "id": "d2815257",
   "metadata": {},
   "outputs": [],
   "source": [
    "cluster_number = kmeans.predict(audio_song)"
   ]
  },
  {
   "cell_type": "code",
   "execution_count": null,
   "id": "ba4ff628",
   "metadata": {},
   "outputs": [],
   "source": [
    "list(cluster_number)[0]"
   ]
  },
  {
   "cell_type": "code",
   "execution_count": null,
   "id": "58c05bb4",
   "metadata": {},
   "outputs": [],
   "source": [
    "recommend_cluster = playlist_final[playlist_final['cluster']== list(cluster_number)[0]]"
   ]
  },
  {
   "cell_type": "code",
   "execution_count": null,
   "id": "430486c9",
   "metadata": {},
   "outputs": [],
   "source": [
    "recommend_cluster['name']"
   ]
  },
  {
   "cell_type": "code",
   "execution_count": null,
   "id": "eca28c4d",
   "metadata": {},
   "outputs": [],
   "source": [
    "recommend_cluster.sample()"
   ]
  },
  {
   "cell_type": "markdown",
   "id": "905a95c4",
   "metadata": {},
   "source": [
    "### RECOMMENDATOR "
   ]
  },
  {
   "cell_type": "code",
   "execution_count": 47,
   "id": "e76d2d6f",
   "metadata": {},
   "outputs": [],
   "source": [
    "def recommend_song():\n",
    "    song = input(\"Enter a song name: \")\n",
    "    #is_song_in_list = playlist_final['name'].isin([song]).any()\n",
    "    client_id=secrets_dict['clientid']\n",
    "    client_secret=secrets_dict['clientsecret']\n",
    "    sp = spotipy.Spotify(auth_manager=SpotifyClientCredentials(client_id=secrets_dict['clientid'],\n",
    "                                                           client_secret=secrets_dict['clientsecret'])) \n",
    "    if song in list(top_100['title']):\n",
    "        recommended_song = top_100.sample(n=1)['title'].values[0]\n",
    "        print(\"Your song is in the Top 100 list!\")\n",
    "        print(\"Here's another recommended song:\", recommended_song)\n",
    "    \n",
    "    else:\n",
    "        song = sp.search(q=song, type='track', limit=1)\n",
    "        uri = song['tracks']['items'][0]['uri']\n",
    "        audio_features = sp.audio_features(uri)\n",
    "        audio_features_df = pd.DataFrame(audio_features, index=[0])\n",
    "        selected_columns = ['danceability', 'energy', 'loudness', 'speechiness', 'acousticness', 'instrumentalness', 'liveness', 'valence', 'tempo', 'duration_ms', 'time_signature']\n",
    "        audio_song = audio_features_df[selected_columns]\n",
    "        audio_song = scaler.transform(audio_song) \n",
    "        cluster_number = kmeans.predict(audio_song)\n",
    "        recommend_cluster = playlist_final[playlist_final['cluster']== list(cluster_number)[0]]\n",
    "        rec = recommend_cluster.sample()\n",
    "        \n",
    "        print(\"Here's another recommended song:\", rec[['name','artist']])"
   ]
  },
  {
   "cell_type": "code",
   "execution_count": null,
   "id": "2b227696",
   "metadata": {},
   "outputs": [],
   "source": [
    "recommend_song()"
   ]
  },
  {
   "cell_type": "code",
   "execution_count": null,
   "id": "e65aadf5",
   "metadata": {},
   "outputs": [],
   "source": []
  }
 ],
 "metadata": {
  "kernelspec": {
   "display_name": "Python 3 (ipykernel)",
   "language": "python",
   "name": "python3"
  },
  "language_info": {
   "codemirror_mode": {
    "name": "ipython",
    "version": 3
   },
   "file_extension": ".py",
   "mimetype": "text/x-python",
   "name": "python",
   "nbconvert_exporter": "python",
   "pygments_lexer": "ipython3",
   "version": "3.10.9"
  }
 },
 "nbformat": 4,
 "nbformat_minor": 5
}
