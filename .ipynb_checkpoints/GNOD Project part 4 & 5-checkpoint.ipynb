{
 "cells": [
  {
   "cell_type": "code",
   "execution_count": null,
   "id": "9ca73d0f",
   "metadata": {},
   "outputs": [],
   "source": [
    "# CREATING A NEW FILE BECAUSE I FACED 2 ISSUES.  \n",
    "# My Ram memory could not stand the first notebook. I cheked how was the cpu power trought the \"task\n",
    "# adminitrator\" and windows indazador was taking 30% of that. I disabled it. \n",
    "# Besides, I opened the notebook with Visual Studio code and I type in the second cell to get an error \n",
    "# to avoid the automatic run. I type a # in the heavy cells too. \n"
   ]
  },
  {
   "cell_type": "code",
   "execution_count": 18,
   "id": "ae33a79b",
   "metadata": {},
   "outputs": [],
   "source": [
    "from time import sleep\n",
    "from random import randint\n",
    "import spotipy\n",
    "from spotipy.oauth2 import SpotifyClientCredentials\n",
    "import pandas as pd\n",
    "import numpy as np\n",
    "import matplotlib.pyplot as plt\n",
    "\n",
    "from sklearn import cluster, datasets\n",
    "from sklearn.preprocessing import StandardScaler\n",
    "from matplotlib.lines import Line2D\n",
    "from sklearn import cluster"
   ]
  },
  {
   "cell_type": "markdown",
   "id": "e3100f8b",
   "metadata": {},
   "source": [
    "I need: song name, artists name, uri, audio features, album?"
   ]
  },
  {
   "cell_type": "code",
   "execution_count": null,
   "id": "e05c817e",
   "metadata": {},
   "outputs": [],
   "source": [
    "#!pip install spotipy\n",
    "# It was already installed, I runned again becasuse I got an error in the import from cell. And that works. "
   ]
  },
  {
   "cell_type": "code",
   "execution_count": null,
   "id": "ad2dd936",
   "metadata": {},
   "outputs": [],
   "source": [
    "secrets_file = open(\"secrets.txt\",\"r\")"
   ]
  },
  {
   "cell_type": "code",
   "execution_count": null,
   "id": "9da0f04d",
   "metadata": {},
   "outputs": [],
   "source": [
    "string = secrets_file.read()"
   ]
  },
  {
   "cell_type": "markdown",
   "id": "1c9a622b",
   "metadata": {},
   "source": [
    "We are splitting the text from the secrets.txt. Why don't we paste the text? Because we don't want our text be in a public file. So we are taking the text with the code below."
   ]
  },
  {
   "cell_type": "code",
   "execution_count": null,
   "id": "f8f4f115",
   "metadata": {},
   "outputs": [],
   "source": [
    "secrets_dict={} #convert the clientid and clientsecrets into dictionaries\n",
    "for line in string.split('\\n'):\n",
    "    if len(line) > 0: #if I don't have an empty line do next line.\n",
    "        secrets_dict[line.split(':')[0]]=line.split(':')[1].strip() #.strip remove xtra spaces."
   ]
  },
  {
   "cell_type": "code",
   "execution_count": null,
   "id": "92f9b78c",
   "metadata": {},
   "outputs": [],
   "source": [
    "import spotipy\n",
    "from spotipy.oauth2 import SpotifyClientCredentials\n",
    "\n",
    "#Initialize SpotiPy with user credentials\n",
    "sp = spotipy.Spotify(auth_manager=SpotifyClientCredentials(client_id=secrets_dict['clientid'],\n",
    "                                                           client_secret=secrets_dict['clientsecret']))"
   ]
  },
  {
   "cell_type": "code",
   "execution_count": null,
   "id": "78b13e72",
   "metadata": {},
   "outputs": [],
   "source": [
    "# Selecting the function and our playlist."
   ]
  },
  {
   "cell_type": "code",
   "execution_count": null,
   "id": "5019496a",
   "metadata": {},
   "outputs": [],
   "source": [
    "playlist = sp.user_playlist_tracks(\"spotify\", \"2JkIg36K6GI4lUjbVKmmRR\")"
   ]
  },
  {
   "cell_type": "code",
   "execution_count": null,
   "id": "9b40f449",
   "metadata": {},
   "outputs": [],
   "source": [
    "playlist"
   ]
  },
  {
   "cell_type": "code",
   "execution_count": null,
   "id": "f8a2951a",
   "metadata": {},
   "outputs": [],
   "source": [
    "len(playlist) #why 7? which 7?"
   ]
  },
  {
   "cell_type": "code",
   "execution_count": null,
   "id": "630f9cdd",
   "metadata": {},
   "outputs": [],
   "source": [
    "len(playlist[\"items\"])"
   ]
  },
  {
   "cell_type": "code",
   "execution_count": null,
   "id": "58a2e595",
   "metadata": {},
   "outputs": [],
   "source": [
    "playlist[\"total\"]"
   ]
  },
  {
   "cell_type": "code",
   "execution_count": null,
   "id": "2ef5691d",
   "metadata": {},
   "outputs": [],
   "source": [
    "playlist['next'] #What is for this function?"
   ]
  },
  {
   "cell_type": "markdown",
   "id": "3c27c4ed",
   "metadata": {},
   "source": [
    "                                / ERIN PART STARTS /"
   ]
  },
  {
   "cell_type": "code",
   "execution_count": null,
   "id": "014e5c3c",
   "metadata": {},
   "outputs": [],
   "source": [
    "def get_name_artists_from_track(track):\n",
    "    return [(track[\"name\"],artist[\"name\"]) for artist in track[\"artists\"]]"
   ]
  },
  {
   "cell_type": "code",
   "execution_count": null,
   "id": "945c7352",
   "metadata": {},
   "outputs": [],
   "source": [
    "def get_name_artist_from_playlist_item(playlist_item):\n",
    "    return get_name_artists_from_track(playlist_item['track'])"
   ]
  },
  {
   "cell_type": "code",
   "execution_count": null,
   "id": "628577fc",
   "metadata": {},
   "outputs": [],
   "source": [
    "get_name_artist_from_playlist_item(playlist[\"items\"][0])"
   ]
  },
  {
   "cell_type": "code",
   "execution_count": null,
   "id": "0f4f0f0c",
   "metadata": {},
   "outputs": [],
   "source": [
    "from random import randint\n",
    "from time import sleep\n",
    "\n",
    "def get_playlist_tracks(playlist_id):\n",
    "    results = sp.user_playlist_tracks(\"spotify\",playlist_id)\n",
    "    tracks = results['items']\n",
    "    while results['next']!=None:\n",
    "        results = sp.next(results)\n",
    "        tracks = tracks + results['items']\n",
    "        sleep(randint(1,3))\n",
    "    return tracks"
   ]
  },
  {
   "cell_type": "code",
   "execution_count": null,
   "id": "2347b2a5",
   "metadata": {},
   "outputs": [],
   "source": [
    "%%time\n",
    "alltracks = get_playlist_tracks(\"2JkIg36K6GI4lUjbVKmmRR\")"
   ]
  },
  {
   "cell_type": "code",
   "execution_count": null,
   "id": "6a884b03",
   "metadata": {},
   "outputs": [],
   "source": [
    "len(alltracks)"
   ]
  },
  {
   "cell_type": "markdown",
   "id": "236a17bc",
   "metadata": {},
   "source": [
    "why the otput is song name and artist name. I prefer taking field by field."
   ]
  },
  {
   "cell_type": "markdown",
   "id": "70eaf80b",
   "metadata": {},
   "source": [
    "                                 / ERIN PART ENDS /"
   ]
  },
  {
   "cell_type": "markdown",
   "id": "ef58680f",
   "metadata": {},
   "source": [
    "#### Looking for the songs (again)"
   ]
  },
  {
   "cell_type": "code",
   "execution_count": null,
   "id": "55805397",
   "metadata": {},
   "outputs": [],
   "source": [
    "playlist[\"items\"] \n",
    "# this displays a giant list with a dictionary inside [{ we need to take off the list\n",
    "# and get the dictionary remaing to extract the info we need for the next step. "
   ]
  },
  {
   "cell_type": "code",
   "execution_count": null,
   "id": "c809b78e",
   "metadata": {},
   "outputs": [],
   "source": [
    "playlist[\"items\"][0] # With the index 0 we are selecting all the info inside of the giant list.  "
   ]
  },
  {
   "cell_type": "code",
   "execution_count": null,
   "id": "cf31ada3",
   "metadata": {},
   "outputs": [],
   "source": [
    "playlist[\"items\"][0].keys()"
   ]
  },
  {
   "cell_type": "code",
   "execution_count": null,
   "id": "ea89967c",
   "metadata": {},
   "outputs": [],
   "source": [
    "playlist[\"items\"][0][\"track\"][\"name\"] #Getting the song name."
   ]
  },
  {
   "cell_type": "markdown",
   "id": "76e118c4",
   "metadata": {},
   "source": [
    "#### Looking for the artist name"
   ]
  },
  {
   "cell_type": "code",
   "execution_count": null,
   "id": "d5531827",
   "metadata": {},
   "outputs": [],
   "source": [
    "#Same process than with the song, but here I will show just the last code line. \n",
    "playlist[\"items\"][0][\"track\"][\"artists\"][0][\"name\"]"
   ]
  },
  {
   "cell_type": "markdown",
   "id": "1d473313",
   "metadata": {},
   "source": [
    "#### Looking for the uri."
   ]
  },
  {
   "cell_type": "code",
   "execution_count": null,
   "id": "0245cf56",
   "metadata": {},
   "outputs": [],
   "source": [
    "playlist[\"items\"][0][\"track\"][\"uri\"]"
   ]
  },
  {
   "cell_type": "markdown",
   "id": "40a8a1bc",
   "metadata": {},
   "source": [
    "#### 1º Dataframe"
   ]
  },
  {
   "cell_type": "code",
   "execution_count": null,
   "id": "cb4d94ed",
   "metadata": {},
   "outputs": [],
   "source": [
    "song_name= []\n",
    "artist = []\n",
    "uri = []\n",
    "\n",
    "for i in range(len(alltracks)):\n",
    "    song_name.append (alltracks[i][\"track\"][\"name\"]) # DON'T [\"items\"][0]...\n",
    "    artist.append (alltracks[i][\"track\"][\"artists\"][0][\"name\"]) # DON'T [\"items\"][0]...\n",
    "    uri.append (alltracks[i][\"track\"][\"uri\"]) # DON'T [\"items\"][0]..."
   ]
  },
  {
   "cell_type": "code",
   "execution_count": null,
   "id": "1b01b758",
   "metadata": {},
   "outputs": [],
   "source": [
    "import pandas as pd\n",
    "df_playlist = pd.DataFrame({\"song\":song_name, \"artist\":artist, \"uri\":uri})"
   ]
  },
  {
   "cell_type": "code",
   "execution_count": null,
   "id": "1630d211",
   "metadata": {},
   "outputs": [],
   "source": [
    "df_playlist"
   ]
  },
  {
   "cell_type": "code",
   "execution_count": null,
   "id": "58b834e4",
   "metadata": {},
   "outputs": [],
   "source": [
    "%%time\n",
    "audio_features = []\n",
    "\n",
    "for i in df_playlist[\"uri\"]:\n",
    "    audio_features.append (sp.audio_features(i))"
   ]
  },
  {
   "cell_type": "code",
   "execution_count": null,
   "id": "8a2871fc",
   "metadata": {},
   "outputs": [],
   "source": [
    "audio_features_df = pd.DataFrame(audio_features)"
   ]
  },
  {
   "cell_type": "code",
   "execution_count": null,
   "id": "fe03a6a8",
   "metadata": {},
   "outputs": [],
   "source": [
    "print(audio_features)"
   ]
  },
  {
   "cell_type": "code",
   "execution_count": null,
   "id": "aa8a2c5f",
   "metadata": {},
   "outputs": [],
   "source": [
    "import pandas as pd\n",
    "from pandas import json_normalize\n",
    "\n",
    "audio_features_df = json_normalize(audio_features_df[0])"
   ]
  },
  {
   "cell_type": "code",
   "execution_count": null,
   "id": "0a948a6d",
   "metadata": {},
   "outputs": [],
   "source": [
    "audio_features_df"
   ]
  },
  {
   "cell_type": "markdown",
   "id": "d636267a",
   "metadata": {},
   "source": [
    "#### Looking for the audio features.  \n",
    "#### In second dataframe before to concatenate with the first one (song name, artist, uri)"
   ]
  },
  {
   "cell_type": "code",
   "execution_count": null,
   "id": "8665a052",
   "metadata": {},
   "outputs": [],
   "source": [
    "%%time\n",
    "alltracks = get_playlist_tracks (\"2JkIg36K6GI4lUjbVKmmRR\")\n",
    "len(alltracks)"
   ]
  },
  {
   "cell_type": "code",
   "execution_count": null,
   "id": "dc0c95a3",
   "metadata": {},
   "outputs": [],
   "source": [
    "audio_features_df = pd.DataFrame(audio_features)"
   ]
  },
  {
   "cell_type": "code",
   "execution_count": null,
   "id": "607451c3",
   "metadata": {},
   "outputs": [],
   "source": [
    "audio_features_df"
   ]
  },
  {
   "cell_type": "code",
   "execution_count": null,
   "id": "4197f1ad",
   "metadata": {},
   "outputs": [],
   "source": [
    "import pandas as pd\n",
    "from pandas import json_normalize\n",
    "\n",
    "audio_features_df2 = json_normalize(audio_features_df[0])"
   ]
  },
  {
   "cell_type": "code",
   "execution_count": null,
   "id": "fa72b49c",
   "metadata": {},
   "outputs": [],
   "source": [
    "final_df = pd.concat([playlist_df, audio_features_df1], axis=1)"
   ]
  },
  {
   "cell_type": "code",
   "execution_count": null,
   "id": "58b2b756",
   "metadata": {},
   "outputs": [],
   "source": [
    "final_df"
   ]
  },
  {
   "cell_type": "code",
   "execution_count": null,
   "id": "cb3cbdac",
   "metadata": {},
   "outputs": [],
   "source": [
    "data.to_csv(’File’s name’, index=False)"
   ]
  },
  {
   "cell_type": "code",
   "execution_count": null,
   "id": "579dbf63",
   "metadata": {},
   "outputs": [],
   "source": [
    "df.to_excel('.xlsx', index=False)"
   ]
  },
  {
   "cell_type": "code",
   "execution_count": null,
   "id": "1b30cb57",
   "metadata": {},
   "outputs": [],
   "source": []
  },
  {
   "cell_type": "markdown",
   "id": "f2682e78",
   "metadata": {},
   "source": [
    "### (GNOD - part 4)"
   ]
  },
  {
   "cell_type": "code",
   "execution_count": 2,
   "id": "60795c90",
   "metadata": {},
   "outputs": [],
   "source": [
    "import pandas as pd"
   ]
  },
  {
   "cell_type": "code",
   "execution_count": 3,
   "id": "dac33526",
   "metadata": {},
   "outputs": [],
   "source": [
    "big_playlist = pd.read_csv(\"Big_playlist.csv\")"
   ]
  },
  {
   "cell_type": "code",
   "execution_count": 4,
   "id": "e27d1157",
   "metadata": {},
   "outputs": [
    {
     "name": "stdout",
     "output_type": "stream",
     "text": [
      "Number of duplicate rows: 597\n"
     ]
    }
   ],
   "source": [
    "num_duplicates = big_playlist.duplicated().sum()\n",
    "print(\"Number of duplicate rows:\", num_duplicates)"
   ]
  },
  {
   "cell_type": "code",
   "execution_count": 5,
   "id": "5fbf43b1",
   "metadata": {},
   "outputs": [],
   "source": [
    "big_playlist = big_playlist.drop_duplicates()"
   ]
  },
  {
   "cell_type": "code",
   "execution_count": 6,
   "id": "98df02de",
   "metadata": {},
   "outputs": [
    {
     "data": {
      "text/plain": [
       "(10122, 15)"
      ]
     },
     "execution_count": 6,
     "metadata": {},
     "output_type": "execute_result"
    }
   ],
   "source": [
    "big_playlist.shape"
   ]
  },
  {
   "cell_type": "code",
   "execution_count": 7,
   "id": "0aa64e4b",
   "metadata": {
    "scrolled": true
   },
   "outputs": [
    {
     "data": {
      "text/plain": [
       "Index(['Title', 'Artist', 'ID', 'danceability', 'energy', 'key', 'loudness',\n",
       "       'mode', 'speechiness', 'acousticness', 'instrumentalness', 'liveness',\n",
       "       'valence', 'tempo', 'duration_ms'],\n",
       "      dtype='object')"
      ]
     },
     "execution_count": 7,
     "metadata": {},
     "output_type": "execute_result"
    }
   ],
   "source": [
    "big_playlist.columns"
   ]
  },
  {
   "cell_type": "markdown",
   "id": "adcae380",
   "metadata": {},
   "source": [
    "##### y= we don't have target in this exercise. "
   ]
  },
  {
   "cell_type": "code",
   "execution_count": 8,
   "id": "5ea2e6d8",
   "metadata": {},
   "outputs": [],
   "source": [
    "big_playlist_df = pd.DataFrame(big_playlist)"
   ]
  },
  {
   "cell_type": "code",
   "execution_count": 9,
   "id": "6805bbca",
   "metadata": {},
   "outputs": [],
   "source": [
    "X = big_playlist_df.drop([\"Title\", \"Artist\", \"ID\"], axis=1)"
   ]
  },
  {
   "cell_type": "markdown",
   "id": "50d30b23",
   "metadata": {},
   "source": [
    "#### ESCALE"
   ]
  },
  {
   "cell_type": "code",
   "execution_count": 10,
   "id": "62aacc12",
   "metadata": {},
   "outputs": [
    {
     "data": {
      "text/html": [
       "<div>\n",
       "<style scoped>\n",
       "    .dataframe tbody tr th:only-of-type {\n",
       "        vertical-align: middle;\n",
       "    }\n",
       "\n",
       "    .dataframe tbody tr th {\n",
       "        vertical-align: top;\n",
       "    }\n",
       "\n",
       "    .dataframe thead th {\n",
       "        text-align: right;\n",
       "    }\n",
       "</style>\n",
       "<table border=\"1\" class=\"dataframe\">\n",
       "  <thead>\n",
       "    <tr style=\"text-align: right;\">\n",
       "      <th></th>\n",
       "      <th>danceability</th>\n",
       "      <th>energy</th>\n",
       "      <th>key</th>\n",
       "      <th>loudness</th>\n",
       "      <th>mode</th>\n",
       "      <th>speechiness</th>\n",
       "      <th>acousticness</th>\n",
       "      <th>instrumentalness</th>\n",
       "      <th>liveness</th>\n",
       "      <th>valence</th>\n",
       "      <th>tempo</th>\n",
       "      <th>duration_ms</th>\n",
       "    </tr>\n",
       "  </thead>\n",
       "  <tbody>\n",
       "    <tr>\n",
       "      <th>0</th>\n",
       "      <td>-0.581402</td>\n",
       "      <td>0.394330</td>\n",
       "      <td>-0.058830</td>\n",
       "      <td>0.228037</td>\n",
       "      <td>-1.573140</td>\n",
       "      <td>-0.332571</td>\n",
       "      <td>0.867466</td>\n",
       "      <td>-0.449990</td>\n",
       "      <td>2.776486</td>\n",
       "      <td>1.233007</td>\n",
       "      <td>0.574157</td>\n",
       "      <td>-1.043718</td>\n",
       "    </tr>\n",
       "    <tr>\n",
       "      <th>1</th>\n",
       "      <td>-0.399765</td>\n",
       "      <td>0.220606</td>\n",
       "      <td>-0.058830</td>\n",
       "      <td>0.329637</td>\n",
       "      <td>0.635671</td>\n",
       "      <td>-0.455677</td>\n",
       "      <td>-0.291591</td>\n",
       "      <td>-0.449791</td>\n",
       "      <td>-0.610318</td>\n",
       "      <td>0.005977</td>\n",
       "      <td>-1.556023</td>\n",
       "      <td>-0.375513</td>\n",
       "    </tr>\n",
       "    <tr>\n",
       "      <th>2</th>\n",
       "      <td>-0.343395</td>\n",
       "      <td>-0.036031</td>\n",
       "      <td>-0.339983</td>\n",
       "      <td>0.419970</td>\n",
       "      <td>0.635671</td>\n",
       "      <td>-0.489873</td>\n",
       "      <td>-0.490287</td>\n",
       "      <td>-0.449831</td>\n",
       "      <td>-0.043319</td>\n",
       "      <td>-1.127814</td>\n",
       "      <td>-1.283723</td>\n",
       "      <td>0.182861</td>\n",
       "    </tr>\n",
       "    <tr>\n",
       "      <th>3</th>\n",
       "      <td>0.151408</td>\n",
       "      <td>0.252192</td>\n",
       "      <td>-0.339983</td>\n",
       "      <td>-0.420906</td>\n",
       "      <td>0.635671</td>\n",
       "      <td>-0.476194</td>\n",
       "      <td>0.394812</td>\n",
       "      <td>-0.440191</td>\n",
       "      <td>0.400314</td>\n",
       "      <td>1.214359</td>\n",
       "      <td>0.776842</td>\n",
       "      <td>0.343586</td>\n",
       "    </tr>\n",
       "    <tr>\n",
       "      <th>4</th>\n",
       "      <td>1.065854</td>\n",
       "      <td>1.247155</td>\n",
       "      <td>1.628085</td>\n",
       "      <td>0.287049</td>\n",
       "      <td>-1.573140</td>\n",
       "      <td>-0.011127</td>\n",
       "      <td>-0.743172</td>\n",
       "      <td>0.191698</td>\n",
       "      <td>-0.037242</td>\n",
       "      <td>1.542561</td>\n",
       "      <td>1.252245</td>\n",
       "      <td>-1.373193</td>\n",
       "    </tr>\n",
       "  </tbody>\n",
       "</table>\n",
       "</div>"
      ],
      "text/plain": [
       "   danceability    energy       key  loudness      mode  speechiness  \\\n",
       "0     -0.581402  0.394330 -0.058830  0.228037 -1.573140    -0.332571   \n",
       "1     -0.399765  0.220606 -0.058830  0.329637  0.635671    -0.455677   \n",
       "2     -0.343395 -0.036031 -0.339983  0.419970  0.635671    -0.489873   \n",
       "3      0.151408  0.252192 -0.339983 -0.420906  0.635671    -0.476194   \n",
       "4      1.065854  1.247155  1.628085  0.287049 -1.573140    -0.011127   \n",
       "\n",
       "   acousticness  instrumentalness  liveness   valence     tempo  duration_ms  \n",
       "0      0.867466         -0.449990  2.776486  1.233007  0.574157    -1.043718  \n",
       "1     -0.291591         -0.449791 -0.610318  0.005977 -1.556023    -0.375513  \n",
       "2     -0.490287         -0.449831 -0.043319 -1.127814 -1.283723     0.182861  \n",
       "3      0.394812         -0.440191  0.400314  1.214359  0.776842     0.343586  \n",
       "4     -0.743172          0.191698 -0.037242  1.542561  1.252245    -1.373193  "
      ]
     },
     "execution_count": 10,
     "metadata": {},
     "output_type": "execute_result"
    }
   ],
   "source": [
    "from sklearn.preprocessing import StandardScaler\n",
    "X_prep = StandardScaler().fit_transform(X)\n",
    "\n",
    "# Now, all features will have the same weight.\n",
    "pd.DataFrame(X_prep,columns= X.columns).head()"
   ]
  },
  {
   "cell_type": "code",
   "execution_count": 11,
   "id": "66be5e65",
   "metadata": {},
   "outputs": [
    {
     "name": "stderr",
     "output_type": "stream",
     "text": [
      "C:\\Users\\IUREK\\anaconda3\\lib\\site-packages\\sklearn\\cluster\\_kmeans.py:870: FutureWarning: The default value of `n_init` will change from 10 to 'auto' in 1.4. Set the value of `n_init` explicitly to suppress the warning\n",
      "  warnings.warn(\n"
     ]
    },
    {
     "data": {
      "text/html": [
       "<style>#sk-container-id-1 {color: black;background-color: white;}#sk-container-id-1 pre{padding: 0;}#sk-container-id-1 div.sk-toggleable {background-color: white;}#sk-container-id-1 label.sk-toggleable__label {cursor: pointer;display: block;width: 100%;margin-bottom: 0;padding: 0.3em;box-sizing: border-box;text-align: center;}#sk-container-id-1 label.sk-toggleable__label-arrow:before {content: \"▸\";float: left;margin-right: 0.25em;color: #696969;}#sk-container-id-1 label.sk-toggleable__label-arrow:hover:before {color: black;}#sk-container-id-1 div.sk-estimator:hover label.sk-toggleable__label-arrow:before {color: black;}#sk-container-id-1 div.sk-toggleable__content {max-height: 0;max-width: 0;overflow: hidden;text-align: left;background-color: #f0f8ff;}#sk-container-id-1 div.sk-toggleable__content pre {margin: 0.2em;color: black;border-radius: 0.25em;background-color: #f0f8ff;}#sk-container-id-1 input.sk-toggleable__control:checked~div.sk-toggleable__content {max-height: 200px;max-width: 100%;overflow: auto;}#sk-container-id-1 input.sk-toggleable__control:checked~label.sk-toggleable__label-arrow:before {content: \"▾\";}#sk-container-id-1 div.sk-estimator input.sk-toggleable__control:checked~label.sk-toggleable__label {background-color: #d4ebff;}#sk-container-id-1 div.sk-label input.sk-toggleable__control:checked~label.sk-toggleable__label {background-color: #d4ebff;}#sk-container-id-1 input.sk-hidden--visually {border: 0;clip: rect(1px 1px 1px 1px);clip: rect(1px, 1px, 1px, 1px);height: 1px;margin: -1px;overflow: hidden;padding: 0;position: absolute;width: 1px;}#sk-container-id-1 div.sk-estimator {font-family: monospace;background-color: #f0f8ff;border: 1px dotted black;border-radius: 0.25em;box-sizing: border-box;margin-bottom: 0.5em;}#sk-container-id-1 div.sk-estimator:hover {background-color: #d4ebff;}#sk-container-id-1 div.sk-parallel-item::after {content: \"\";width: 100%;border-bottom: 1px solid gray;flex-grow: 1;}#sk-container-id-1 div.sk-label:hover label.sk-toggleable__label {background-color: #d4ebff;}#sk-container-id-1 div.sk-serial::before {content: \"\";position: absolute;border-left: 1px solid gray;box-sizing: border-box;top: 0;bottom: 0;left: 50%;z-index: 0;}#sk-container-id-1 div.sk-serial {display: flex;flex-direction: column;align-items: center;background-color: white;padding-right: 0.2em;padding-left: 0.2em;position: relative;}#sk-container-id-1 div.sk-item {position: relative;z-index: 1;}#sk-container-id-1 div.sk-parallel {display: flex;align-items: stretch;justify-content: center;background-color: white;position: relative;}#sk-container-id-1 div.sk-item::before, #sk-container-id-1 div.sk-parallel-item::before {content: \"\";position: absolute;border-left: 1px solid gray;box-sizing: border-box;top: 0;bottom: 0;left: 50%;z-index: -1;}#sk-container-id-1 div.sk-parallel-item {display: flex;flex-direction: column;z-index: 1;position: relative;background-color: white;}#sk-container-id-1 div.sk-parallel-item:first-child::after {align-self: flex-end;width: 50%;}#sk-container-id-1 div.sk-parallel-item:last-child::after {align-self: flex-start;width: 50%;}#sk-container-id-1 div.sk-parallel-item:only-child::after {width: 0;}#sk-container-id-1 div.sk-dashed-wrapped {border: 1px dashed gray;margin: 0 0.4em 0.5em 0.4em;box-sizing: border-box;padding-bottom: 0.4em;background-color: white;}#sk-container-id-1 div.sk-label label {font-family: monospace;font-weight: bold;display: inline-block;line-height: 1.2em;}#sk-container-id-1 div.sk-label-container {text-align: center;}#sk-container-id-1 div.sk-container {/* jupyter's `normalize.less` sets `[hidden] { display: none; }` but bootstrap.min.css set `[hidden] { display: none !important; }` so we also need the `!important` here to be able to override the default hidden behavior on the sphinx rendered scikit-learn.org. See: https://github.com/scikit-learn/scikit-learn/issues/21755 */display: inline-block !important;position: relative;}#sk-container-id-1 div.sk-text-repr-fallback {display: none;}</style><div id=\"sk-container-id-1\" class=\"sk-top-container\"><div class=\"sk-text-repr-fallback\"><pre>KMeans(n_clusters=3, random_state=1234)</pre><b>In a Jupyter environment, please rerun this cell to show the HTML representation or trust the notebook. <br />On GitHub, the HTML representation is unable to render, please try loading this page with nbviewer.org.</b></div><div class=\"sk-container\" hidden><div class=\"sk-item\"><div class=\"sk-estimator sk-toggleable\"><input class=\"sk-toggleable__control sk-hidden--visually\" id=\"sk-estimator-id-1\" type=\"checkbox\" checked><label for=\"sk-estimator-id-1\" class=\"sk-toggleable__label sk-toggleable__label-arrow\">KMeans</label><div class=\"sk-toggleable__content\"><pre>KMeans(n_clusters=3, random_state=1234)</pre></div></div></div></div></div>"
      ],
      "text/plain": [
       "KMeans(n_clusters=3, random_state=1234)"
      ]
     },
     "execution_count": 11,
     "metadata": {},
     "output_type": "execute_result"
    }
   ],
   "source": [
    "from sklearn.cluster import KMeans\n",
    "\n",
    "kmeans = KMeans(n_clusters=3, random_state=1234)\n",
    "kmeans.fit(X_prep)"
   ]
  },
  {
   "cell_type": "code",
   "execution_count": 12,
   "id": "28ec455b",
   "metadata": {},
   "outputs": [
    {
     "data": {
      "text/plain": [
       "0     816\n",
       "1    3199\n",
       "2    6107\n",
       "dtype: int64"
      ]
     },
     "execution_count": 12,
     "metadata": {},
     "output_type": "execute_result"
    }
   ],
   "source": [
    "# Predicting / assigning the clusters:\n",
    "clusters = kmeans.predict(X_prep)\n",
    "\n",
    "# Check the size of the clusters\n",
    "pd.Series(clusters).value_counts().sort_index()"
   ]
  },
  {
   "cell_type": "code",
   "execution_count": 13,
   "id": "63048c24",
   "metadata": {},
   "outputs": [
    {
     "data": {
      "text/plain": [
       "array([2, 1, 1, ..., 0, 0, 0])"
      ]
     },
     "execution_count": 13,
     "metadata": {},
     "output_type": "execute_result"
    }
   ],
   "source": [
    "clusters"
   ]
  },
  {
   "cell_type": "code",
   "execution_count": 14,
   "id": "4003bd67",
   "metadata": {
    "scrolled": true
   },
   "outputs": [
    {
     "data": {
      "text/plain": [
       "Text(0.5, 1.0, 'Elbow Method showing the optimal k')"
      ]
     },
     "execution_count": 14,
     "metadata": {},
     "output_type": "execute_result"
    },
    {
     "data": {
      "image/png": "[encoded data removed]",
      "text/plain": [
       "<Figure size 2600x800 with 1 Axes>"
      ]
     },
     "metadata": {},
     "output_type": "display_data"
    }
   ],
   "source": [
    "import numpy as np\n",
    "K = range(2, 20)\n",
    "inertia = []\n",
    "\n",
    "for k in K:\n",
    "    kmeans = KMeans(n_clusters=k, n_init = \"auto\", # n_init = \"auto\" ignoring the warnings.\n",
    "                    random_state=1234)\n",
    "    kmeans.fit(X_prep)\n",
    "    inertia.append(kmeans.inertia_)\n",
    "\n",
    "import matplotlib.pyplot as plt\n",
    "%matplotlib inline\n",
    "\n",
    "plt.figure(figsize=(26,8))\n",
    "plt.plot(K, inertia, 'bx-')\n",
    "plt.xlabel('k')\n",
    "plt.ylabel('inertia')\n",
    "plt.xticks(np.arange(min(K), max(K)+1, 1.0))\n",
    "plt.title('Elbow Method showing the optimal k')"
   ]
  },
  {
   "cell_type": "code",
   "execution_count": 15,
   "id": "7081622b",
   "metadata": {},
   "outputs": [
    {
     "data": {
      "text/plain": [
       "Text(0.5, 1.0, 'Slhouette score showing the optimal k')"
      ]
     },
     "execution_count": 15,
     "metadata": {},
     "output_type": "execute_result"
    },
    {
     "data": {
      "image/png": "[encoded data removed]",
      "text/plain": [
       "<Figure size 1600x800 with 1 Axes>"
      ]
     },
     "metadata": {},
     "output_type": "display_data"
    }
   ],
   "source": [
    "from sklearn.metrics import silhouette_score\n",
    "K = range(2, 20)\n",
    "silhouette = []\n",
    "\n",
    "for k in K:\n",
    "    kmeans = KMeans(n_clusters=k, n_init = \"auto\",\n",
    "                    random_state=1234)\n",
    "    kmeans.fit(X_prep)\n",
    "    silhouette.append(silhouette_score(X_prep, kmeans.predict(X_prep)))\n",
    "\n",
    "\n",
    "plt.figure(figsize=(16,8))\n",
    "plt.plot(K, silhouette, 'bx-')\n",
    "plt.xlabel('k')\n",
    "plt.ylabel('silhouette score')\n",
    "plt.xticks(np.arange(min(K), max(K)+1, 1.0))\n",
    "plt.title('Slhouette score showing the optimal k')"
   ]
  },
  {
   "cell_type": "code",
   "execution_count": 19,
   "id": "9d8a27f8",
   "metadata": {},
   "outputs": [
    {
     "name": "stderr",
     "output_type": "stream",
     "text": [
      "C:\\Users\\IUREK\\anaconda3\\lib\\site-packages\\sklearn\\cluster\\_kmeans.py:870: FutureWarning: The default value of `n_init` will change from 10 to 'auto' in 1.4. Set the value of `n_init` explicitly to suppress the warning\n",
      "  warnings.warn(\n"
     ]
    },
    {
     "data": {
      "text/html": [
       "<style>#sk-container-id-2 {color: black;background-color: white;}#sk-container-id-2 pre{padding: 0;}#sk-container-id-2 div.sk-toggleable {background-color: white;}#sk-container-id-2 label.sk-toggleable__label {cursor: pointer;display: block;width: 100%;margin-bottom: 0;padding: 0.3em;box-sizing: border-box;text-align: center;}#sk-container-id-2 label.sk-toggleable__label-arrow:before {content: \"▸\";float: left;margin-right: 0.25em;color: #696969;}#sk-container-id-2 label.sk-toggleable__label-arrow:hover:before {color: black;}#sk-container-id-2 div.sk-estimator:hover label.sk-toggleable__label-arrow:before {color: black;}#sk-container-id-2 div.sk-toggleable__content {max-height: 0;max-width: 0;overflow: hidden;text-align: left;background-color: #f0f8ff;}#sk-container-id-2 div.sk-toggleable__content pre {margin: 0.2em;color: black;border-radius: 0.25em;background-color: #f0f8ff;}#sk-container-id-2 input.sk-toggleable__control:checked~div.sk-toggleable__content {max-height: 200px;max-width: 100%;overflow: auto;}#sk-container-id-2 input.sk-toggleable__control:checked~label.sk-toggleable__label-arrow:before {content: \"▾\";}#sk-container-id-2 div.sk-estimator input.sk-toggleable__control:checked~label.sk-toggleable__label {background-color: #d4ebff;}#sk-container-id-2 div.sk-label input.sk-toggleable__control:checked~label.sk-toggleable__label {background-color: #d4ebff;}#sk-container-id-2 input.sk-hidden--visually {border: 0;clip: rect(1px 1px 1px 1px);clip: rect(1px, 1px, 1px, 1px);height: 1px;margin: -1px;overflow: hidden;padding: 0;position: absolute;width: 1px;}#sk-container-id-2 div.sk-estimator {font-family: monospace;background-color: #f0f8ff;border: 1px dotted black;border-radius: 0.25em;box-sizing: border-box;margin-bottom: 0.5em;}#sk-container-id-2 div.sk-estimator:hover {background-color: #d4ebff;}#sk-container-id-2 div.sk-parallel-item::after {content: \"\";width: 100%;border-bottom: 1px solid gray;flex-grow: 1;}#sk-container-id-2 div.sk-label:hover label.sk-toggleable__label {background-color: #d4ebff;}#sk-container-id-2 div.sk-serial::before {content: \"\";position: absolute;border-left: 1px solid gray;box-sizing: border-box;top: 0;bottom: 0;left: 50%;z-index: 0;}#sk-container-id-2 div.sk-serial {display: flex;flex-direction: column;align-items: center;background-color: white;padding-right: 0.2em;padding-left: 0.2em;position: relative;}#sk-container-id-2 div.sk-item {position: relative;z-index: 1;}#sk-container-id-2 div.sk-parallel {display: flex;align-items: stretch;justify-content: center;background-color: white;position: relative;}#sk-container-id-2 div.sk-item::before, #sk-container-id-2 div.sk-parallel-item::before {content: \"\";position: absolute;border-left: 1px solid gray;box-sizing: border-box;top: 0;bottom: 0;left: 50%;z-index: -1;}#sk-container-id-2 div.sk-parallel-item {display: flex;flex-direction: column;z-index: 1;position: relative;background-color: white;}#sk-container-id-2 div.sk-parallel-item:first-child::after {align-self: flex-end;width: 50%;}#sk-container-id-2 div.sk-parallel-item:last-child::after {align-self: flex-start;width: 50%;}#sk-container-id-2 div.sk-parallel-item:only-child::after {width: 0;}#sk-container-id-2 div.sk-dashed-wrapped {border: 1px dashed gray;margin: 0 0.4em 0.5em 0.4em;box-sizing: border-box;padding-bottom: 0.4em;background-color: white;}#sk-container-id-2 div.sk-label label {font-family: monospace;font-weight: bold;display: inline-block;line-height: 1.2em;}#sk-container-id-2 div.sk-label-container {text-align: center;}#sk-container-id-2 div.sk-container {/* jupyter's `normalize.less` sets `[hidden] { display: none; }` but bootstrap.min.css set `[hidden] { display: none !important; }` so we also need the `!important` here to be able to override the default hidden behavior on the sphinx rendered scikit-learn.org. See: https://github.com/scikit-learn/scikit-learn/issues/21755 */display: inline-block !important;position: relative;}#sk-container-id-2 div.sk-text-repr-fallback {display: none;}</style><div id=\"sk-container-id-2\" class=\"sk-top-container\"><div class=\"sk-text-repr-fallback\"><pre>KMeans(n_clusters=6)</pre><b>In a Jupyter environment, please rerun this cell to show the HTML representation or trust the notebook. <br />On GitHub, the HTML representation is unable to render, please try loading this page with nbviewer.org.</b></div><div class=\"sk-container\" hidden><div class=\"sk-item\"><div class=\"sk-estimator sk-toggleable\"><input class=\"sk-toggleable__control sk-hidden--visually\" id=\"sk-estimator-id-2\" type=\"checkbox\" checked><label for=\"sk-estimator-id-2\" class=\"sk-toggleable__label sk-toggleable__label-arrow\">KMeans</label><div class=\"sk-toggleable__content\"><pre>KMeans(n_clusters=6)</pre></div></div></div></div></div>"
      ],
      "text/plain": [
       "KMeans(n_clusters=6)"
      ]
     },
     "execution_count": 19,
     "metadata": {},
     "output_type": "execute_result"
    }
   ],
   "source": [
    "kmeans = cluster.KMeans(n_clusters= 6)\n",
    "kmeans.fit(X)"
   ]
  },
  {
   "cell_type": "code",
   "execution_count": 20,
   "id": "21199cdd",
   "metadata": {},
   "outputs": [
    {
     "data": {
      "text/plain": [
       "array([5, 1, 0, ..., 4, 3, 4])"
      ]
     },
     "execution_count": 20,
     "metadata": {},
     "output_type": "execute_result"
    }
   ],
   "source": [
    "# Predicting / assigning the clusters:\n",
    "clusters = kmeans.predict(X)\n",
    "clusters"
   ]
  },
  {
   "cell_type": "code",
   "execution_count": 21,
   "id": "69575285",
   "metadata": {},
   "outputs": [
    {
     "data": {
      "text/plain": [
       "0    2937\n",
       "1    3425\n",
       "2     339\n",
       "3      28\n",
       "4    1383\n",
       "5    2010\n",
       "dtype: int64"
      ]
     },
     "execution_count": 21,
     "metadata": {},
     "output_type": "execute_result"
    }
   ],
   "source": [
    "# Check the size of the clusters\n",
    "pd.Series(clusters).value_counts().sort_index()"
   ]
  },
  {
   "cell_type": "markdown",
   "id": "1a34052c",
   "metadata": {},
   "source": [
    "#### CREATING THE DATAFRAME."
   ]
  },
  {
   "cell_type": "code",
   "execution_count": 22,
   "id": "edc9e6f8",
   "metadata": {},
   "outputs": [],
   "source": [
    "import pandas as pd\n",
    "clusters_df = pd.DataFrame(clusters) # FIRST Q, cluster must be converted into df before concatenate?"
   ]
  },
  {
   "cell_type": "code",
   "execution_count": 30,
   "id": "672a569b",
   "metadata": {},
   "outputs": [
    {
     "data": {
      "text/html": [
       "<div>\n",
       "<style scoped>\n",
       "    .dataframe tbody tr th:only-of-type {\n",
       "        vertical-align: middle;\n",
       "    }\n",
       "\n",
       "    .dataframe tbody tr th {\n",
       "        vertical-align: top;\n",
       "    }\n",
       "\n",
       "    .dataframe thead th {\n",
       "        text-align: right;\n",
       "    }\n",
       "</style>\n",
       "<table border=\"1\" class=\"dataframe\">\n",
       "  <thead>\n",
       "    <tr style=\"text-align: right;\">\n",
       "      <th></th>\n",
       "      <th>Cluster</th>\n",
       "    </tr>\n",
       "  </thead>\n",
       "  <tbody>\n",
       "    <tr>\n",
       "      <th>0</th>\n",
       "      <td>5</td>\n",
       "    </tr>\n",
       "    <tr>\n",
       "      <th>1</th>\n",
       "      <td>1</td>\n",
       "    </tr>\n",
       "    <tr>\n",
       "      <th>2</th>\n",
       "      <td>0</td>\n",
       "    </tr>\n",
       "    <tr>\n",
       "      <th>3</th>\n",
       "      <td>0</td>\n",
       "    </tr>\n",
       "    <tr>\n",
       "      <th>4</th>\n",
       "      <td>5</td>\n",
       "    </tr>\n",
       "  </tbody>\n",
       "</table>\n",
       "</div>"
      ],
      "text/plain": [
       "   Cluster\n",
       "0        5\n",
       "1        1\n",
       "2        0\n",
       "3        0\n",
       "4        5"
      ]
     },
     "execution_count": 30,
     "metadata": {},
     "output_type": "execute_result"
    }
   ],
   "source": [
    "clusters_df.head()"
   ]
  },
  {
   "cell_type": "code",
   "execution_count": 29,
   "id": "fc714e8a",
   "metadata": {},
   "outputs": [],
   "source": [
    "clusters_df = clusters_df.rename(columns= {0: 'Cluster'})"
   ]
  },
  {
   "cell_type": "code",
   "execution_count": 36,
   "id": "ac9acea5",
   "metadata": {},
   "outputs": [
    {
     "data": {
      "text/html": [
       "<div>\n",
       "<style scoped>\n",
       "    .dataframe tbody tr th:only-of-type {\n",
       "        vertical-align: middle;\n",
       "    }\n",
       "\n",
       "    .dataframe tbody tr th {\n",
       "        vertical-align: top;\n",
       "    }\n",
       "\n",
       "    .dataframe thead th {\n",
       "        text-align: right;\n",
       "    }\n",
       "</style>\n",
       "<table border=\"1\" class=\"dataframe\">\n",
       "  <thead>\n",
       "    <tr style=\"text-align: right;\">\n",
       "      <th></th>\n",
       "      <th>Cluster</th>\n",
       "    </tr>\n",
       "  </thead>\n",
       "  <tbody>\n",
       "    <tr>\n",
       "      <th>0</th>\n",
       "      <td>5</td>\n",
       "    </tr>\n",
       "    <tr>\n",
       "      <th>1</th>\n",
       "      <td>1</td>\n",
       "    </tr>\n",
       "    <tr>\n",
       "      <th>2</th>\n",
       "      <td>0</td>\n",
       "    </tr>\n",
       "    <tr>\n",
       "      <th>3</th>\n",
       "      <td>0</td>\n",
       "    </tr>\n",
       "    <tr>\n",
       "      <th>4</th>\n",
       "      <td>5</td>\n",
       "    </tr>\n",
       "    <tr>\n",
       "      <th>...</th>\n",
       "      <td>...</td>\n",
       "    </tr>\n",
       "    <tr>\n",
       "      <th>10117</th>\n",
       "      <td>4</td>\n",
       "    </tr>\n",
       "    <tr>\n",
       "      <th>10118</th>\n",
       "      <td>0</td>\n",
       "    </tr>\n",
       "    <tr>\n",
       "      <th>10119</th>\n",
       "      <td>4</td>\n",
       "    </tr>\n",
       "    <tr>\n",
       "      <th>10120</th>\n",
       "      <td>3</td>\n",
       "    </tr>\n",
       "    <tr>\n",
       "      <th>10121</th>\n",
       "      <td>4</td>\n",
       "    </tr>\n",
       "  </tbody>\n",
       "</table>\n",
       "<p>10122 rows × 1 columns</p>\n",
       "</div>"
      ],
      "text/plain": [
       "       Cluster\n",
       "0            5\n",
       "1            1\n",
       "2            0\n",
       "3            0\n",
       "4            5\n",
       "...        ...\n",
       "10117        4\n",
       "10118        0\n",
       "10119        4\n",
       "10120        3\n",
       "10121        4\n",
       "\n",
       "[10122 rows x 1 columns]"
      ]
     },
     "execution_count": 36,
     "metadata": {},
     "output_type": "execute_result"
    }
   ],
   "source": [
    "clusters_df"
   ]
  },
  {
   "cell_type": "code",
   "execution_count": 41,
   "id": "d5972390",
   "metadata": {},
   "outputs": [],
   "source": [
    "big_playlist_df = big_playlist_df.reset_index()"
   ]
  },
  {
   "cell_type": "code",
   "execution_count": 42,
   "id": "51dd6210",
   "metadata": {},
   "outputs": [],
   "source": [
    "cl_playlist = pd.concat([big_playlist_df[['Title', 'Artist']], clusters_df], axis=1)  #1708rows"
   ]
  },
  {
   "cell_type": "code",
   "execution_count": 43,
   "id": "b09daf5a",
   "metadata": {},
   "outputs": [
    {
     "data": {
      "text/html": [
       "<div>\n",
       "<style scoped>\n",
       "    .dataframe tbody tr th:only-of-type {\n",
       "        vertical-align: middle;\n",
       "    }\n",
       "\n",
       "    .dataframe tbody tr th {\n",
       "        vertical-align: top;\n",
       "    }\n",
       "\n",
       "    .dataframe thead th {\n",
       "        text-align: right;\n",
       "    }\n",
       "</style>\n",
       "<table border=\"1\" class=\"dataframe\">\n",
       "  <thead>\n",
       "    <tr style=\"text-align: right;\">\n",
       "      <th></th>\n",
       "      <th>Title</th>\n",
       "      <th>Artist</th>\n",
       "      <th>Cluster</th>\n",
       "    </tr>\n",
       "  </thead>\n",
       "  <tbody>\n",
       "    <tr>\n",
       "      <th>0</th>\n",
       "      <td>You're The One - Un mal pour un bien</td>\n",
       "      <td>Petula Clark</td>\n",
       "      <td>5</td>\n",
       "    </tr>\n",
       "    <tr>\n",
       "      <th>1</th>\n",
       "      <td>Doctor My Eyes</td>\n",
       "      <td>Jackson Browne</td>\n",
       "      <td>1</td>\n",
       "    </tr>\n",
       "    <tr>\n",
       "      <th>2</th>\n",
       "      <td>Falling in Love at a Coffee Shop</td>\n",
       "      <td>Landon Pigg</td>\n",
       "      <td>0</td>\n",
       "    </tr>\n",
       "    <tr>\n",
       "      <th>3</th>\n",
       "      <td>Peaceful Easy Feeling - 2013 Remaster</td>\n",
       "      <td>Eagles</td>\n",
       "      <td>0</td>\n",
       "    </tr>\n",
       "    <tr>\n",
       "      <th>4</th>\n",
       "      <td>Summertime Blues</td>\n",
       "      <td>Eddie Cochran</td>\n",
       "      <td>5</td>\n",
       "    </tr>\n",
       "    <tr>\n",
       "      <th>...</th>\n",
       "      <td>...</td>\n",
       "      <td>...</td>\n",
       "      <td>...</td>\n",
       "    </tr>\n",
       "    <tr>\n",
       "      <th>10117</th>\n",
       "      <td>Elements (Deluxe)</td>\n",
       "      <td>Ludovico Einaudi</td>\n",
       "      <td>4</td>\n",
       "    </tr>\n",
       "    <tr>\n",
       "      <th>10118</th>\n",
       "      <td>Moon Safari</td>\n",
       "      <td>Air</td>\n",
       "      <td>0</td>\n",
       "    </tr>\n",
       "    <tr>\n",
       "      <th>10119</th>\n",
       "      <td>Islands - Essential Einaudi</td>\n",
       "      <td>Ludovico Einaudi</td>\n",
       "      <td>4</td>\n",
       "    </tr>\n",
       "    <tr>\n",
       "      <th>10120</th>\n",
       "      <td>Liquid Mind II: Slow World</td>\n",
       "      <td>Liquid Mind</td>\n",
       "      <td>3</td>\n",
       "    </tr>\n",
       "    <tr>\n",
       "      <th>10121</th>\n",
       "      <td>Liquid Mind XI: Deep Sleep</td>\n",
       "      <td>Liquid Mind</td>\n",
       "      <td>4</td>\n",
       "    </tr>\n",
       "  </tbody>\n",
       "</table>\n",
       "<p>10122 rows × 3 columns</p>\n",
       "</div>"
      ],
      "text/plain": [
       "                                       Title            Artist  Cluster\n",
       "0       You're The One - Un mal pour un bien      Petula Clark        5\n",
       "1                             Doctor My Eyes    Jackson Browne        1\n",
       "2           Falling in Love at a Coffee Shop       Landon Pigg        0\n",
       "3      Peaceful Easy Feeling - 2013 Remaster            Eagles        0\n",
       "4                           Summertime Blues     Eddie Cochran        5\n",
       "...                                      ...               ...      ...\n",
       "10117                      Elements (Deluxe)  Ludovico Einaudi        4\n",
       "10118                            Moon Safari               Air        0\n",
       "10119            Islands - Essential Einaudi  Ludovico Einaudi        4\n",
       "10120             Liquid Mind II: Slow World       Liquid Mind        3\n",
       "10121             Liquid Mind XI: Deep Sleep       Liquid Mind        4\n",
       "\n",
       "[10122 rows x 3 columns]"
      ]
     },
     "execution_count": 43,
     "metadata": {},
     "output_type": "execute_result"
    }
   ],
   "source": [
    "cl_playlist"
   ]
  },
  {
   "cell_type": "code",
   "execution_count": 44,
   "id": "984d561e",
   "metadata": {
    "scrolled": true
   },
   "outputs": [
    {
     "data": {
      "text/html": [
       "<div>\n",
       "<style scoped>\n",
       "    .dataframe tbody tr th:only-of-type {\n",
       "        vertical-align: middle;\n",
       "    }\n",
       "\n",
       "    .dataframe tbody tr th {\n",
       "        vertical-align: top;\n",
       "    }\n",
       "\n",
       "    .dataframe thead th {\n",
       "        text-align: right;\n",
       "    }\n",
       "</style>\n",
       "<table border=\"1\" class=\"dataframe\">\n",
       "  <thead>\n",
       "    <tr style=\"text-align: right;\">\n",
       "      <th></th>\n",
       "      <th>Title</th>\n",
       "      <th>Artist</th>\n",
       "      <th>Cluster</th>\n",
       "    </tr>\n",
       "  </thead>\n",
       "  <tbody>\n",
       "    <tr>\n",
       "      <th>0</th>\n",
       "      <td>You're The One - Un mal pour un bien</td>\n",
       "      <td>Petula Clark</td>\n",
       "      <td>5</td>\n",
       "    </tr>\n",
       "    <tr>\n",
       "      <th>1</th>\n",
       "      <td>Doctor My Eyes</td>\n",
       "      <td>Jackson Browne</td>\n",
       "      <td>1</td>\n",
       "    </tr>\n",
       "    <tr>\n",
       "      <th>2</th>\n",
       "      <td>Falling in Love at a Coffee Shop</td>\n",
       "      <td>Landon Pigg</td>\n",
       "      <td>0</td>\n",
       "    </tr>\n",
       "    <tr>\n",
       "      <th>3</th>\n",
       "      <td>Peaceful Easy Feeling - 2013 Remaster</td>\n",
       "      <td>Eagles</td>\n",
       "      <td>0</td>\n",
       "    </tr>\n",
       "    <tr>\n",
       "      <th>4</th>\n",
       "      <td>Summertime Blues</td>\n",
       "      <td>Eddie Cochran</td>\n",
       "      <td>5</td>\n",
       "    </tr>\n",
       "    <tr>\n",
       "      <th>...</th>\n",
       "      <td>...</td>\n",
       "      <td>...</td>\n",
       "      <td>...</td>\n",
       "    </tr>\n",
       "    <tr>\n",
       "      <th>10117</th>\n",
       "      <td>Elements (Deluxe)</td>\n",
       "      <td>Ludovico Einaudi</td>\n",
       "      <td>4</td>\n",
       "    </tr>\n",
       "    <tr>\n",
       "      <th>10118</th>\n",
       "      <td>Moon Safari</td>\n",
       "      <td>Air</td>\n",
       "      <td>0</td>\n",
       "    </tr>\n",
       "    <tr>\n",
       "      <th>10119</th>\n",
       "      <td>Islands - Essential Einaudi</td>\n",
       "      <td>Ludovico Einaudi</td>\n",
       "      <td>4</td>\n",
       "    </tr>\n",
       "    <tr>\n",
       "      <th>10120</th>\n",
       "      <td>Liquid Mind II: Slow World</td>\n",
       "      <td>Liquid Mind</td>\n",
       "      <td>3</td>\n",
       "    </tr>\n",
       "    <tr>\n",
       "      <th>10121</th>\n",
       "      <td>Liquid Mind XI: Deep Sleep</td>\n",
       "      <td>Liquid Mind</td>\n",
       "      <td>4</td>\n",
       "    </tr>\n",
       "  </tbody>\n",
       "</table>\n",
       "<p>10122 rows × 3 columns</p>\n",
       "</div>"
      ],
      "text/plain": [
       "                                       Title            Artist  Cluster\n",
       "0       You're The One - Un mal pour un bien      Petula Clark        5\n",
       "1                             Doctor My Eyes    Jackson Browne        1\n",
       "2           Falling in Love at a Coffee Shop       Landon Pigg        0\n",
       "3      Peaceful Easy Feeling - 2013 Remaster            Eagles        0\n",
       "4                           Summertime Blues     Eddie Cochran        5\n",
       "...                                      ...               ...      ...\n",
       "10117                      Elements (Deluxe)  Ludovico Einaudi        4\n",
       "10118                            Moon Safari               Air        0\n",
       "10119            Islands - Essential Einaudi  Ludovico Einaudi        4\n",
       "10120             Liquid Mind II: Slow World       Liquid Mind        3\n",
       "10121             Liquid Mind XI: Deep Sleep       Liquid Mind        4\n",
       "\n",
       "[10122 rows x 3 columns]"
      ]
     },
     "execution_count": 44,
     "metadata": {},
     "output_type": "execute_result"
    }
   ],
   "source": [
    "cl_playlist"
   ]
  },
  {
   "cell_type": "code",
   "execution_count": 51,
   "id": "c7cfa811",
   "metadata": {},
   "outputs": [
    {
     "data": {
      "text/plain": [
       "Title      object\n",
       "Artist     object\n",
       "Cluster     int32\n",
       "dtype: object"
      ]
     },
     "execution_count": 51,
     "metadata": {},
     "output_type": "execute_result"
    }
   ],
   "source": [
    "#Making sure the values in the cluster are recognized as a number.\n",
    "cl_playlist.dtypes"
   ]
  },
  {
   "cell_type": "code",
   "execution_count": 48,
   "id": "31bfb59e",
   "metadata": {},
   "outputs": [
    {
     "data": {
      "text/html": [
       "<div>\n",
       "<style scoped>\n",
       "    .dataframe tbody tr th:only-of-type {\n",
       "        vertical-align: middle;\n",
       "    }\n",
       "\n",
       "    .dataframe tbody tr th {\n",
       "        vertical-align: top;\n",
       "    }\n",
       "\n",
       "    .dataframe thead th {\n",
       "        text-align: right;\n",
       "    }\n",
       "</style>\n",
       "<table border=\"1\" class=\"dataframe\">\n",
       "  <thead>\n",
       "    <tr style=\"text-align: right;\">\n",
       "      <th></th>\n",
       "      <th>Cluster</th>\n",
       "    </tr>\n",
       "  </thead>\n",
       "  <tbody>\n",
       "    <tr>\n",
       "      <th>0</th>\n",
       "      <td>False</td>\n",
       "    </tr>\n",
       "    <tr>\n",
       "      <th>1</th>\n",
       "      <td>False</td>\n",
       "    </tr>\n",
       "    <tr>\n",
       "      <th>2</th>\n",
       "      <td>False</td>\n",
       "    </tr>\n",
       "    <tr>\n",
       "      <th>3</th>\n",
       "      <td>False</td>\n",
       "    </tr>\n",
       "    <tr>\n",
       "      <th>4</th>\n",
       "      <td>False</td>\n",
       "    </tr>\n",
       "    <tr>\n",
       "      <th>...</th>\n",
       "      <td>...</td>\n",
       "    </tr>\n",
       "    <tr>\n",
       "      <th>10117</th>\n",
       "      <td>False</td>\n",
       "    </tr>\n",
       "    <tr>\n",
       "      <th>10118</th>\n",
       "      <td>False</td>\n",
       "    </tr>\n",
       "    <tr>\n",
       "      <th>10119</th>\n",
       "      <td>False</td>\n",
       "    </tr>\n",
       "    <tr>\n",
       "      <th>10120</th>\n",
       "      <td>False</td>\n",
       "    </tr>\n",
       "    <tr>\n",
       "      <th>10121</th>\n",
       "      <td>False</td>\n",
       "    </tr>\n",
       "  </tbody>\n",
       "</table>\n",
       "<p>10122 rows × 1 columns</p>\n",
       "</div>"
      ],
      "text/plain": [
       "       Cluster\n",
       "0        False\n",
       "1        False\n",
       "2        False\n",
       "3        False\n",
       "4        False\n",
       "...        ...\n",
       "10117    False\n",
       "10118    False\n",
       "10119    False\n",
       "10120    False\n",
       "10121    False\n",
       "\n",
       "[10122 rows x 1 columns]"
      ]
     },
     "execution_count": 48,
     "metadata": {},
     "output_type": "execute_result"
    }
   ],
   "source": [
    "clusters_df.isnull"
   ]
  },
  {
   "cell_type": "code",
   "execution_count": 47,
   "id": "47136d33",
   "metadata": {},
   "outputs": [],
   "source": [
    "cl_playlist.to_csv('clus_playlist.csv', index = False)"
   ]
  },
  {
   "cell_type": "code",
   "execution_count": null,
   "id": "f10c3098",
   "metadata": {},
   "outputs": [],
   "source": [
    "# to concatenate two tables is not mandatory to convert to dataframe both. You can use as well series "
   ]
  },
  {
   "cell_type": "code",
   "execution_count": 53,
   "id": "f55e1331",
   "metadata": {},
   "outputs": [],
   "source": [
    "import pickle\n",
    "\n",
    "with open(\"model.pkl\",\"wb\")as f:\n",
    "    pickle.dump(kmeans, f)"
   ]
  },
  {
   "cell_type": "code",
   "execution_count": null,
   "id": "f588520e",
   "metadata": {},
   "outputs": [],
   "source": []
  }
 ],
 "metadata": {
  "kernelspec": {
   "display_name": "Python 3 (ipykernel)",
   "language": "python",
   "name": "python3"
  },
  "language_info": {
   "codemirror_mode": {
    "name": "ipython",
    "version": 3
   },
   "file_extension": ".py",
   "mimetype": "text/x-python",
   "name": "python",
   "nbconvert_exporter": "python",
   "pygments_lexer": "ipython3",
   "version": "3.10.9"
  }
 },
 "nbformat": 4,
 "nbformat_minor": 5
}
