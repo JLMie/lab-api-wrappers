{
 "cells": [
  {
   "cell_type": "code",
   "execution_count": null,
   "id": "9ca73d0f",
   "metadata": {},
   "outputs": [],
   "source": [
    "# CREATING A NEW FILE BECAUSE I FACED 2 ISSUES.  \n",
    "# My Ram memory could not stand the first notebook. I cheked how was the cpu power trought the \"task\n",
    "# adminitrator\" and windows indazador was taking 30% of that. I disabled it. \n",
    "# Besides, I opened the notebook with Visual Studio code and I type in the second cell to get an error \n",
    "# to avoid the automatic run. I type a # in the heavy cells too. \n"
   ]
  },
  {
   "cell_type": "code",
   "execution_count": null,
   "id": "ae33a79b",
   "metadata": {},
   "outputs": [],
   "source": [
    "from time import sleep\n",
    "from random import randint\n",
    "import spotipy\n",
    "from spotipy.oauth2 import SpotifyClientCredentials\n",
    "import pandas as pd\n",
    "import numpy as np\n",
    "import matplotlib.pyplot as plt\n",
    "\n",
    "from sklearn import cluster, datasets\n",
    "from sklearn.preprocessing import StandardScaler\n",
    "from matplotlib.lines import Line2D\n",
    "from sklearn import cluster"
   ]
  },
  {
   "cell_type": "markdown",
   "id": "e3100f8b",
   "metadata": {},
   "source": [
    "I need: song name, artists name, uri, audio features, album?"
   ]
  },
  {
   "cell_type": "code",
   "execution_count": null,
   "id": "e05c817e",
   "metadata": {},
   "outputs": [],
   "source": [
    "#!pip install spotipy\n",
    "# It was already installed, I runned again becasuse I got an error in the import from cell. And that works. "
   ]
  },
  {
   "cell_type": "code",
   "execution_count": null,
   "id": "ad2dd936",
   "metadata": {},
   "outputs": [],
   "source": [
    "secrets_file = open(\"secrets.txt\",\"r\")"
   ]
  },
  {
   "cell_type": "code",
   "execution_count": null,
   "id": "9da0f04d",
   "metadata": {},
   "outputs": [],
   "source": [
    "string = secrets_file.read()"
   ]
  },
  {
   "cell_type": "markdown",
   "id": "1c9a622b",
   "metadata": {},
   "source": [
    "We are splitting the text from the secrets.txt. Why don't we paste the text? Because we don't want our text be in a public file. So we are taking the text with the code below."
   ]
  },
  {
   "cell_type": "code",
   "execution_count": null,
   "id": "f8f4f115",
   "metadata": {},
   "outputs": [],
   "source": [
    "secrets_dict={} #convert the clientid and clientsecrets into dictionaries\n",
    "for line in string.split('\\n'):\n",
    "    if len(line) > 0: #if I don't have an empty line do next line.\n",
    "        secrets_dict[line.split(':')[0]]=line.split(':')[1].strip() #.strip remove xtra spaces."
   ]
  },
  {
   "cell_type": "code",
   "execution_count": null,
   "id": "92f9b78c",
   "metadata": {},
   "outputs": [],
   "source": [
    "import spotipy\n",
    "from spotipy.oauth2 import SpotifyClientCredentials\n",
    "\n",
    "#Initialize SpotiPy with user credentials\n",
    "sp = spotipy.Spotify(auth_manager=SpotifyClientCredentials(client_id=secrets_dict['clientid'],\n",
    "                                                           client_secret=secrets_dict['clientsecret']))"
   ]
  },
  {
   "cell_type": "code",
   "execution_count": null,
   "id": "78b13e72",
   "metadata": {},
   "outputs": [],
   "source": [
    "# Selecting the function and our playlist."
   ]
  },
  {
   "cell_type": "code",
   "execution_count": null,
   "id": "5019496a",
   "metadata": {},
   "outputs": [],
   "source": [
    "playlist = sp.user_playlist_tracks(\"spotify\", \"2JkIg36K6GI4lUjbVKmmRR\")"
   ]
  },
  {
   "cell_type": "code",
   "execution_count": null,
   "id": "9b40f449",
   "metadata": {},
   "outputs": [],
   "source": [
    "playlist"
   ]
  },
  {
   "cell_type": "code",
   "execution_count": null,
   "id": "f8a2951a",
   "metadata": {},
   "outputs": [],
   "source": [
    "len(playlist) #why 7? which 7?"
   ]
  },
  {
   "cell_type": "code",
   "execution_count": null,
   "id": "630f9cdd",
   "metadata": {},
   "outputs": [],
   "source": [
    "len(playlist[\"items\"])"
   ]
  },
  {
   "cell_type": "code",
   "execution_count": null,
   "id": "58a2e595",
   "metadata": {},
   "outputs": [],
   "source": [
    "playlist[\"total\"]"
   ]
  },
  {
   "cell_type": "code",
   "execution_count": null,
   "id": "2ef5691d",
   "metadata": {},
   "outputs": [],
   "source": [
    "playlist['next'] #What is for this function?"
   ]
  },
  {
   "cell_type": "markdown",
   "id": "3c27c4ed",
   "metadata": {},
   "source": [
    "                                / ERIN PART STARTS /"
   ]
  },
  {
   "cell_type": "code",
   "execution_count": null,
   "id": "014e5c3c",
   "metadata": {},
   "outputs": [],
   "source": [
    "def get_name_artists_from_track(track):\n",
    "    return [(track[\"name\"],artist[\"name\"]) for artist in track[\"artists\"]]"
   ]
  },
  {
   "cell_type": "code",
   "execution_count": null,
   "id": "945c7352",
   "metadata": {},
   "outputs": [],
   "source": [
    "def get_name_artist_from_playlist_item(playlist_item):\n",
    "    return get_name_artists_from_track(playlist_item['track'])"
   ]
  },
  {
   "cell_type": "code",
   "execution_count": null,
   "id": "628577fc",
   "metadata": {},
   "outputs": [],
   "source": [
    "get_name_artist_from_playlist_item(playlist[\"items\"][0])"
   ]
  },
  {
   "cell_type": "code",
   "execution_count": null,
   "id": "0f4f0f0c",
   "metadata": {},
   "outputs": [],
   "source": [
    "from random import randint\n",
    "from time import sleep\n",
    "\n",
    "def get_playlist_tracks(playlist_id):\n",
    "    results = sp.user_playlist_tracks(\"spotify\",playlist_id)\n",
    "    tracks = results['items']\n",
    "    while results['next']!=None:\n",
    "        results = sp.next(results)\n",
    "        tracks = tracks + results['items']\n",
    "        sleep(randint(1,3))\n",
    "    return tracks"
   ]
  },
  {
   "cell_type": "code",
   "execution_count": null,
   "id": "2347b2a5",
   "metadata": {},
   "outputs": [],
   "source": [
    "%%time\n",
    "alltracks = get_playlist_tracks(\"2JkIg36K6GI4lUjbVKmmRR\")"
   ]
  },
  {
   "cell_type": "code",
   "execution_count": null,
   "id": "6a884b03",
   "metadata": {},
   "outputs": [],
   "source": [
    "len(alltracks)"
   ]
  },
  {
   "cell_type": "markdown",
   "id": "236a17bc",
   "metadata": {},
   "source": [
    "why the otput is song name and artist name. I prefer taking field by field."
   ]
  },
  {
   "cell_type": "markdown",
   "id": "70eaf80b",
   "metadata": {},
   "source": [
    "                                 / ERIN PART ENDS /"
   ]
  },
  {
   "cell_type": "markdown",
   "id": "ef58680f",
   "metadata": {},
   "source": [
    "#### Looking for the songs (again)"
   ]
  },
  {
   "cell_type": "code",
   "execution_count": null,
   "id": "55805397",
   "metadata": {},
   "outputs": [],
   "source": [
    "playlist[\"items\"] \n",
    "# this displays a giant list with a dictionary inside [{ we need to take off the list\n",
    "# and get the dictionary remaing to extract the info we need for the next step. "
   ]
  },
  {
   "cell_type": "code",
   "execution_count": null,
   "id": "c809b78e",
   "metadata": {},
   "outputs": [],
   "source": [
    "playlist[\"items\"][0] # With the index 0 we are selecting all the info inside of the giant list.  "
   ]
  },
  {
   "cell_type": "code",
   "execution_count": null,
   "id": "cf31ada3",
   "metadata": {},
   "outputs": [],
   "source": [
    "playlist[\"items\"][0].keys()"
   ]
  },
  {
   "cell_type": "code",
   "execution_count": null,
   "id": "ea89967c",
   "metadata": {},
   "outputs": [],
   "source": [
    "playlist[\"items\"][0][\"track\"][\"name\"] #Getting the song name."
   ]
  },
  {
   "cell_type": "markdown",
   "id": "76e118c4",
   "metadata": {},
   "source": [
    "#### Looking for the artist name"
   ]
  },
  {
   "cell_type": "code",
   "execution_count": null,
   "id": "d5531827",
   "metadata": {},
   "outputs": [],
   "source": [
    "#Same process than with the song, but here I will show just the last code line. \n",
    "playlist[\"items\"][0][\"track\"][\"artists\"][0][\"name\"]"
   ]
  },
  {
   "cell_type": "markdown",
   "id": "1d473313",
   "metadata": {},
   "source": [
    "#### Looking for the uri."
   ]
  },
  {
   "cell_type": "code",
   "execution_count": null,
   "id": "0245cf56",
   "metadata": {},
   "outputs": [],
   "source": [
    "playlist[\"items\"][0][\"track\"][\"uri\"]"
   ]
  },
  {
   "cell_type": "markdown",
   "id": "40a8a1bc",
   "metadata": {},
   "source": [
    "#### 1º Dataframe"
   ]
  },
  {
   "cell_type": "code",
   "execution_count": null,
   "id": "cb4d94ed",
   "metadata": {},
   "outputs": [],
   "source": [
    "song_name= []\n",
    "artist = []\n",
    "uri = []\n",
    "\n",
    "for i in range(len(alltracks)):\n",
    "    song_name.append (alltracks[i][\"track\"][\"name\"]) # DON'T [\"items\"][0]...\n",
    "    artist.append (alltracks[i][\"track\"][\"artists\"][0][\"name\"]) # DON'T [\"items\"][0]...\n",
    "    uri.append (alltracks[i][\"track\"][\"uri\"]) # DON'T [\"items\"][0]..."
   ]
  },
  {
   "cell_type": "code",
   "execution_count": null,
   "id": "1b01b758",
   "metadata": {},
   "outputs": [],
   "source": [
    "import pandas as pd\n",
    "df_playlist = pd.DataFrame({\"song\":song_name, \"artist\":artist, \"uri\":uri})"
   ]
  },
  {
   "cell_type": "code",
   "execution_count": null,
   "id": "1630d211",
   "metadata": {},
   "outputs": [],
   "source": [
    "df_playlist"
   ]
  },
  {
   "cell_type": "code",
   "execution_count": null,
   "id": "58b834e4",
   "metadata": {},
   "outputs": [],
   "source": [
    "%%time\n",
    "audio_features = []\n",
    "\n",
    "for i in df_playlist[\"uri\"]:\n",
    "    audio_features.append (sp.audio_features(i))"
   ]
  },
  {
   "cell_type": "code",
   "execution_count": null,
   "id": "8a2871fc",
   "metadata": {},
   "outputs": [],
   "source": [
    "audio_features_df = pd.DataFrame(audio_features)"
   ]
  },
  {
   "cell_type": "code",
   "execution_count": null,
   "id": "fe03a6a8",
   "metadata": {},
   "outputs": [],
   "source": [
    "print(audio_features)"
   ]
  },
  {
   "cell_type": "code",
   "execution_count": null,
   "id": "aa8a2c5f",
   "metadata": {},
   "outputs": [],
   "source": [
    "import pandas as pd\n",
    "from pandas import json_normalize\n",
    "\n",
    "audio_features_df = json_normalize(audio_features_df[0])"
   ]
  },
  {
   "cell_type": "code",
   "execution_count": null,
   "id": "0a948a6d",
   "metadata": {},
   "outputs": [],
   "source": [
    "audio_features_df"
   ]
  },
  {
   "cell_type": "markdown",
   "id": "d636267a",
   "metadata": {},
   "source": [
    "#### Looking for the audio features.  \n",
    "#### In second dataframe before to concatenate with the first one (song name, artist, uri)"
   ]
  },
  {
   "cell_type": "code",
   "execution_count": null,
   "id": "8665a052",
   "metadata": {},
   "outputs": [],
   "source": [
    "%%time\n",
    "alltracks = get_playlist_tracks (\"2JkIg36K6GI4lUjbVKmmRR\")\n",
    "len(alltracks)"
   ]
  },
  {
   "cell_type": "code",
   "execution_count": null,
   "id": "dc0c95a3",
   "metadata": {},
   "outputs": [],
   "source": [
    "audio_features_df = pd.DataFrame(audio_features)"
   ]
  },
  {
   "cell_type": "code",
   "execution_count": null,
   "id": "607451c3",
   "metadata": {},
   "outputs": [],
   "source": [
    "audio_features_df"
   ]
  },
  {
   "cell_type": "code",
   "execution_count": null,
   "id": "4197f1ad",
   "metadata": {},
   "outputs": [],
   "source": [
    "import pandas as pd\n",
    "from pandas import json_normalize\n",
    "\n",
    "audio_features_df2 = json_normalize(audio_features_df[0])"
   ]
  },
  {
   "cell_type": "code",
   "execution_count": null,
   "id": "fa72b49c",
   "metadata": {},
   "outputs": [],
   "source": [
    "final_df = pd.concat([playlist_df, audio_features_df1], axis=1)"
   ]
  },
  {
   "cell_type": "code",
   "execution_count": null,
   "id": "58b2b756",
   "metadata": {},
   "outputs": [],
   "source": [
    "final_df"
   ]
  },
  {
   "cell_type": "code",
   "execution_count": null,
   "id": "cb3cbdac",
   "metadata": {},
   "outputs": [],
   "source": [
    "data.to_csv(’File’s name’, index=False)"
   ]
  },
  {
   "cell_type": "code",
   "execution_count": null,
   "id": "579dbf63",
   "metadata": {},
   "outputs": [],
   "source": [
    "df.to_excel('.xlsx', index=False)"
   ]
  },
  {
   "cell_type": "code",
   "execution_count": null,
   "id": "1b30cb57",
   "metadata": {},
   "outputs": [],
   "source": []
  },
  {
   "cell_type": "markdown",
   "id": "f2682e78",
   "metadata": {},
   "source": [
    "### (GNOD - part 4)"
   ]
  },
  {
   "cell_type": "code",
   "execution_count": 158,
   "id": "dac33526",
   "metadata": {},
   "outputs": [],
   "source": [
    "big_playlist = pd.read_csv(\"Big_playlist.csv\")"
   ]
  },
  {
   "cell_type": "code",
   "execution_count": 161,
   "id": "e27d1157",
   "metadata": {},
   "outputs": [
    {
     "name": "stdout",
     "output_type": "stream",
     "text": [
      "Number of duplicate rows: 597\n"
     ]
    }
   ],
   "source": [
    "num_duplicates = big_playlist.duplicated().sum()\n",
    "print(\"Number of duplicate rows:\", num_duplicates)"
   ]
  },
  {
   "cell_type": "code",
   "execution_count": 162,
   "id": "5fbf43b1",
   "metadata": {},
   "outputs": [],
   "source": [
    "big_playlist = big_playlist.drop_duplicates()"
   ]
  },
  {
   "cell_type": "code",
   "execution_count": 163,
   "id": "98df02de",
   "metadata": {},
   "outputs": [
    {
     "data": {
      "text/plain": [
       "(10122, 15)"
      ]
     },
     "execution_count": 163,
     "metadata": {},
     "output_type": "execute_result"
    }
   ],
   "source": [
    "big_playlist.shape"
   ]
  },
  {
   "cell_type": "code",
   "execution_count": 164,
   "id": "0aa64e4b",
   "metadata": {
    "scrolled": true
   },
   "outputs": [
    {
     "data": {
      "text/plain": [
       "Index(['Title', 'Artist', 'ID', 'danceability', 'energy', 'key', 'loudness',\n",
       "       'mode', 'speechiness', 'acousticness', 'instrumentalness', 'liveness',\n",
       "       'valence', 'tempo', 'duration_ms'],\n",
       "      dtype='object')"
      ]
     },
     "execution_count": 164,
     "metadata": {},
     "output_type": "execute_result"
    }
   ],
   "source": [
    "big_playlist.columns"
   ]
  },
  {
   "cell_type": "markdown",
   "id": "adcae380",
   "metadata": {},
   "source": [
    "##### y= we don't have target in this exercise. "
   ]
  },
  {
   "cell_type": "code",
   "execution_count": 165,
   "id": "5ea2e6d8",
   "metadata": {},
   "outputs": [],
   "source": [
    "big_playlist_df = pd.DataFrame(big_playlist)"
   ]
  },
  {
   "cell_type": "code",
   "execution_count": null,
   "id": "6805bbca",
   "metadata": {},
   "outputs": [],
   "source": [
    "X = big_playlist_df.drop([\"Title\", \"Artist\", \"ID\"], axis=1)"
   ]
  },
  {
   "cell_type": "markdown",
   "id": "50d30b23",
   "metadata": {},
   "source": [
    "#### ESCALE"
   ]
  },
  {
   "cell_type": "code",
   "execution_count": null,
   "id": "62aacc12",
   "metadata": {},
   "outputs": [],
   "source": [
    "from sklearn.preprocessing import StandardScaler\n",
    "X_prep = StandardScaler().fit_transform(X)\n",
    "\n",
    "# Now, all features will have the same weight.\n",
    "pd.DataFrame(X_prep,columns= X.columns).head()"
   ]
  },
  {
   "cell_type": "code",
   "execution_count": null,
   "id": "66be5e65",
   "metadata": {},
   "outputs": [],
   "source": [
    "from sklearn.cluster import KMeans\n",
    "\n",
    "kmeans = KMeans(n_clusters=3, random_state=1234)\n",
    "kmeans.fit(X_prep)"
   ]
  },
  {
   "cell_type": "code",
   "execution_count": null,
   "id": "28ec455b",
   "metadata": {},
   "outputs": [],
   "source": [
    "# Predicting / assigning the clusters:\n",
    "clusters = kmeans.predict(X_prep)\n",
    "\n",
    "# Check the size of the clusters\n",
    "pd.Series(clusters).value_counts().sort_index()"
   ]
  },
  {
   "cell_type": "code",
   "execution_count": null,
   "id": "63048c24",
   "metadata": {},
   "outputs": [],
   "source": [
    "clusters"
   ]
  },
  {
   "cell_type": "code",
   "execution_count": null,
   "id": "4003bd67",
   "metadata": {
    "scrolled": true
   },
   "outputs": [],
   "source": [
    "import numpy as np\n",
    "K = range(2, 20)\n",
    "inertia = []\n",
    "\n",
    "for k in K:\n",
    "    kmeans = KMeans(n_clusters=k, n_init = \"auto\", # n_init = \"auto\" ignoring the warnings.\n",
    "                    random_state=1234)\n",
    "    kmeans.fit(X_prep)\n",
    "    inertia.append(kmeans.inertia_)\n",
    "\n",
    "import matplotlib.pyplot as plt\n",
    "%matplotlib inline\n",
    "\n",
    "plt.figure(figsize=(26,8))\n",
    "plt.plot(K, inertia, 'bx-')\n",
    "plt.xlabel('k')\n",
    "plt.ylabel('inertia')\n",
    "plt.xticks(np.arange(min(K), max(K)+1, 1.0))\n",
    "plt.title('Elbow Method showing the optimal k')"
   ]
  },
  {
   "cell_type": "code",
   "execution_count": null,
   "id": "7081622b",
   "metadata": {},
   "outputs": [],
   "source": [
    "from sklearn.metrics import silhouette_score\n",
    "K = range(2, 20)\n",
    "silhouette = []\n",
    "\n",
    "for k in K:\n",
    "    kmeans = KMeans(n_clusters=k, n_init = \"auto\",\n",
    "                    random_state=1234)\n",
    "    kmeans.fit(X_prep)\n",
    "    silhouette.append(silhouette_score(X_prep, kmeans.predict(X_prep)))\n",
    "\n",
    "\n",
    "plt.figure(figsize=(16,8))\n",
    "plt.plot(K, silhouette, 'bx-')\n",
    "plt.xlabel('k')\n",
    "plt.ylabel('silhouette score')\n",
    "plt.xticks(np.arange(min(K), max(K)+1, 1.0))\n",
    "plt.title('Slhouette score showing the optimal k')"
   ]
  },
  {
   "cell_type": "code",
   "execution_count": null,
   "id": "9d8a27f8",
   "metadata": {},
   "outputs": [],
   "source": [
    "kmeans = cluster.KMeans(n_clusters= 6)\n",
    "kmeans.fit(X)"
   ]
  },
  {
   "cell_type": "code",
   "execution_count": null,
   "id": "21199cdd",
   "metadata": {},
   "outputs": [],
   "source": [
    "# Predicting / assigning the clusters:\n",
    "clusters = kmeans.predict(X)\n",
    "clusters"
   ]
  },
  {
   "cell_type": "code",
   "execution_count": null,
   "id": "69575285",
   "metadata": {},
   "outputs": [],
   "source": [
    "# Check the size of the clusters\n",
    "pd.Series(clusters).value_counts().sort_index()"
   ]
  },
  {
   "cell_type": "markdown",
   "id": "1a34052c",
   "metadata": {},
   "source": [
    "#### CREATING THE DATAFRAME."
   ]
  },
  {
   "cell_type": "code",
   "execution_count": 183,
   "id": "edc9e6f8",
   "metadata": {},
   "outputs": [],
   "source": [
    "import pandas as pd\n",
    "clusters_df = pd.DataFrame(clusters) # FIRST Q, cluster must be converted into df before concatenate?"
   ]
  },
  {
   "cell_type": "code",
   "execution_count": null,
   "id": "fc714e8a",
   "metadata": {},
   "outputs": [],
   "source": [
    "#clusters_df = clusters_df.rename(columns= {'0': 'Cluster'})\n",
    "#clusters_df = clusters_df.rename(columns = {'0': 'Cluster'}, inplace = True)"
   ]
  },
  {
   "cell_type": "code",
   "execution_count": 166,
   "id": "ac9acea5",
   "metadata": {},
   "outputs": [
    {
     "data": {
      "text/plain": [
       "(10122, 1)"
      ]
     },
     "execution_count": 166,
     "metadata": {},
     "output_type": "execute_result"
    }
   ],
   "source": [
    "cluster_df.shape"
   ]
  },
  {
   "cell_type": "code",
   "execution_count": 181,
   "id": "51dd6210",
   "metadata": {},
   "outputs": [],
   "source": [
    "# cl_playlist = pd.concat([big_playlist_df[['Title', 'Artist']], cluster_df], axis=1)  #1708rows\n",
    "# cl_playlist = big_playlist_df[['Title', 'Artist']]+cluster_df  #1708rows\n",
    "# cl_playlist_with_clusters = pd.concat([cl_playlist, clusters_df], axis=1) #1022rows but NaN values in cluste\n",
    "# cl_playlist = big_playlist_df[['Title', 'Artist']].join(cluster_df) #1022rows but NaN values in cluster. \n",
    "#cl_playlist = big_playlist_df[['Title', 'Artist']]/n\n",
    "#.merge(cluster_df, left_index=True, right_index=True, how='left') #1022rows but NaN values in clust"
   ]
  },
  {
   "cell_type": "code",
   "execution_count": 182,
   "id": "984d561e",
   "metadata": {},
   "outputs": [
    {
     "data": {
      "text/html": [
       "<div>\n",
       "<style scoped>\n",
       "    .dataframe tbody tr th:only-of-type {\n",
       "        vertical-align: middle;\n",
       "    }\n",
       "\n",
       "    .dataframe tbody tr th {\n",
       "        vertical-align: top;\n",
       "    }\n",
       "\n",
       "    .dataframe thead th {\n",
       "        text-align: right;\n",
       "    }\n",
       "</style>\n",
       "<table border=\"1\" class=\"dataframe\">\n",
       "  <thead>\n",
       "    <tr style=\"text-align: right;\">\n",
       "      <th></th>\n",
       "      <th>Title</th>\n",
       "      <th>Artist</th>\n",
       "      <th>0</th>\n",
       "    </tr>\n",
       "  </thead>\n",
       "  <tbody>\n",
       "    <tr>\n",
       "      <th>0</th>\n",
       "      <td>You're The One - Un mal pour un bien</td>\n",
       "      <td>Petula Clark</td>\n",
       "      <td>0.0</td>\n",
       "    </tr>\n",
       "    <tr>\n",
       "      <th>1</th>\n",
       "      <td>Doctor My Eyes</td>\n",
       "      <td>Jackson Browne</td>\n",
       "      <td>4.0</td>\n",
       "    </tr>\n",
       "    <tr>\n",
       "      <th>2</th>\n",
       "      <td>Falling in Love at a Coffee Shop</td>\n",
       "      <td>Landon Pigg</td>\n",
       "      <td>2.0</td>\n",
       "    </tr>\n",
       "    <tr>\n",
       "      <th>3</th>\n",
       "      <td>Peaceful Easy Feeling - 2013 Remaster</td>\n",
       "      <td>Eagles</td>\n",
       "      <td>2.0</td>\n",
       "    </tr>\n",
       "    <tr>\n",
       "      <th>4</th>\n",
       "      <td>Summertime Blues</td>\n",
       "      <td>Eddie Cochran</td>\n",
       "      <td>0.0</td>\n",
       "    </tr>\n",
       "    <tr>\n",
       "      <th>...</th>\n",
       "      <td>...</td>\n",
       "      <td>...</td>\n",
       "      <td>...</td>\n",
       "    </tr>\n",
       "    <tr>\n",
       "      <th>10714</th>\n",
       "      <td>Elements (Deluxe)</td>\n",
       "      <td>Ludovico Einaudi</td>\n",
       "      <td>NaN</td>\n",
       "    </tr>\n",
       "    <tr>\n",
       "      <th>10715</th>\n",
       "      <td>Moon Safari</td>\n",
       "      <td>Air</td>\n",
       "      <td>NaN</td>\n",
       "    </tr>\n",
       "    <tr>\n",
       "      <th>10716</th>\n",
       "      <td>Islands - Essential Einaudi</td>\n",
       "      <td>Ludovico Einaudi</td>\n",
       "      <td>NaN</td>\n",
       "    </tr>\n",
       "    <tr>\n",
       "      <th>10717</th>\n",
       "      <td>Liquid Mind II: Slow World</td>\n",
       "      <td>Liquid Mind</td>\n",
       "      <td>NaN</td>\n",
       "    </tr>\n",
       "    <tr>\n",
       "      <th>10718</th>\n",
       "      <td>Liquid Mind XI: Deep Sleep</td>\n",
       "      <td>Liquid Mind</td>\n",
       "      <td>NaN</td>\n",
       "    </tr>\n",
       "  </tbody>\n",
       "</table>\n",
       "<p>10122 rows × 3 columns</p>\n",
       "</div>"
      ],
      "text/plain": [
       "                                       Title            Artist    0\n",
       "0       You're The One - Un mal pour un bien      Petula Clark  0.0\n",
       "1                             Doctor My Eyes    Jackson Browne  4.0\n",
       "2           Falling in Love at a Coffee Shop       Landon Pigg  2.0\n",
       "3      Peaceful Easy Feeling - 2013 Remaster            Eagles  2.0\n",
       "4                           Summertime Blues     Eddie Cochran  0.0\n",
       "...                                      ...               ...  ...\n",
       "10714                      Elements (Deluxe)  Ludovico Einaudi  NaN\n",
       "10715                            Moon Safari               Air  NaN\n",
       "10716            Islands - Essential Einaudi  Ludovico Einaudi  NaN\n",
       "10717             Liquid Mind II: Slow World       Liquid Mind  NaN\n",
       "10718             Liquid Mind XI: Deep Sleep       Liquid Mind  NaN\n",
       "\n",
       "[10122 rows x 3 columns]"
      ]
     },
     "execution_count": 182,
     "metadata": {},
     "output_type": "execute_result"
    }
   ],
   "source": [
    "cl_playlist"
   ]
  },
  {
   "cell_type": "code",
   "execution_count": 180,
   "id": "31bfb59e",
   "metadata": {},
   "outputs": [
    {
     "data": {
      "text/plain": [
       "<bound method DataFrame.isnull of        0\n",
       "0      0\n",
       "1      4\n",
       "2      2\n",
       "3      2\n",
       "4      0\n",
       "...   ..\n",
       "10117  1\n",
       "10118  4\n",
       "10119  1\n",
       "10120  3\n",
       "10121  1\n",
       "\n",
       "[10122 rows x 1 columns]>"
      ]
     },
     "execution_count": 180,
     "metadata": {},
     "output_type": "execute_result"
    }
   ],
   "source": [
    "clusters_df.isnull"
   ]
  },
  {
   "cell_type": "code",
   "execution_count": null,
   "id": "bd10af65",
   "metadata": {},
   "outputs": [],
   "source": [
    "cl_playlist"
   ]
  },
  {
   "cell_type": "code",
   "execution_count": null,
   "id": "47136d33",
   "metadata": {},
   "outputs": [],
   "source": [
    "cl_playlist.to_csv('clus_playlist.csv', index = False)"
   ]
  }
 ],
 "metadata": {
  "kernelspec": {
   "display_name": "Python 3 (ipykernel)",
   "language": "python",
   "name": "python3"
  },
  "language_info": {
   "codemirror_mode": {
    "name": "ipython",
    "version": 3
   },
   "file_extension": ".py",
   "mimetype": "text/x-python",
   "name": "python",
   "nbconvert_exporter": "python",
   "pygments_lexer": "ipython3",
   "version": "3.10.9"
  }
 },
 "nbformat": 4,
 "nbformat_minor": 5
}
