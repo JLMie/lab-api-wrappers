{
 "cells": [
  {
   "cell_type": "markdown",
   "id": "8a2f1160",
   "metadata": {},
   "source": [
    "## MUSIC RECOMMENDADOR"
   ]
  },
  {
   "cell_type": "markdown",
   "id": "75d5f89b",
   "metadata": {},
   "source": [
    "#### Schema \n",
    "If input song in list(hot100 titles):\n",
    "Recommend another hot 100 song\n",
    "\n",
    "Else:\n",
    "Connect to spotipy with credentials\n",
    "Search the input_song for the song ID on Spotify\n",
    "With song_id find uri for song\n",
    "Use URI to get the audio_features for the song\n",
    "Put the audio_feeatures into a single row dataframe\n",
    "Use scaler to scale the single row\n",
    "Use the Kmeans model to predict the cluster for the input_song\n",
    "Recommend another song from the same cluster"
   ]
  },
  {
   "cell_type": "markdown",
   "id": "ef826de1",
   "metadata": {},
   "source": [
    "### Import all libraries to be used"
   ]
  },
  {
   "cell_type": "code",
   "execution_count": null,
   "id": "7edcac83",
   "metadata": {},
   "outputs": [],
   "source": [
    "import random\n",
    "import pickle\n",
    "import pandas as pd\n",
    "import spotipy\n",
    "from spotipy.oauth2 import SpotifyClientCredentials\n",
    "import numpy as np\n",
    "from sklearn.cluster import KMeans\n",
    "from sklearn import cluster, datasets\n",
    "from sklearn.preprocessing import StandardScaler"
   ]
  },
  {
   "cell_type": "markdown",
   "id": "7f81385f",
   "metadata": {},
   "source": [
    "#### Connection to Spotify"
   ]
  },
  {
   "cell_type": "code",
   "execution_count": null,
   "id": "3b9b708f",
   "metadata": {},
   "outputs": [],
   "source": [
    "import spotipy\n",
    "from spotipy.oauth2 import SpotifyClientCredentials\n",
    "\n",
    "secrets_file = open(\"secrets.txt\",\"r\")\n",
    "\n",
    "string = secrets_file.read()\n",
    "\n",
    "secrets_dict={}\n",
    "for line in string.split('\\n'):\n",
    "    if len(line) > 0:\n",
    "        secrets_dict[line.split(':')[0]]=line.split(':')[1].strip()"
   ]
  },
  {
   "cell_type": "markdown",
   "id": "ad784164",
   "metadata": {},
   "source": [
    "### Pickle save your kmeans model and scaler to use again"
   ]
  },
  {
   "cell_type": "code",
   "execution_count": null,
   "id": "5f5da758",
   "metadata": {
    "scrolled": true
   },
   "outputs": [],
   "source": [
    "#I DID NOT ATTEND WHEN WE HAD TO SAVE AN SCALER.PKL AND KMEANS.PKL FOR THIS LAB\n",
    "#The open() function is used to open the file in binary mode ('rb'), which is required for reading binary files.\n",
    "#The pickle.load() function is then used to deserialize the object from the file.\n",
    "\n",
    "scaler = pickle.load(open('model.pkl','rb'))\n",
    "kmeans = pickle.load(open('kmeans.pkl','rb'))"
   ]
  },
  {
   "cell_type": "code",
   "execution_count": null,
   "id": "b25f0ba8",
   "metadata": {},
   "outputs": [],
   "source": [
    "filename = 'cd.pkl'\n",
    "with open(filename, 'wb') as f:\n",
    "    classification_dict = pickle.load(f)"
   ]
  },
  {
   "cell_type": "code",
   "execution_count": null,
   "id": "80e98c49",
   "metadata": {},
   "outputs": [],
   "source": [
    "kmeans = pickle.load(open('model.pkl', 'rb'))\n",
    "transformer = pickle.load(open('transformer.pkl','rb'))"
   ]
  },
  {
   "cell_type": "markdown",
   "id": "c4f28089",
   "metadata": {},
   "source": [
    "### Import all needed .csv files and pickles"
   ]
  },
  {
   "cell_type": "code",
   "execution_count": null,
   "id": "6a44e345",
   "metadata": {},
   "outputs": [],
   "source": [
    "clus_playlist = pd.read_csv(\"clus_playlist.csv\")\n",
    "top_100 = pd.read_csv(\"music_top100.csv\")"
   ]
  },
  {
   "cell_type": "code",
   "execution_count": null,
   "id": "02f098cd",
   "metadata": {},
   "outputs": [],
   "source": [
    "top_100.head()"
   ]
  },
  {
   "cell_type": "code",
   "execution_count": null,
   "id": "c9e77b7a",
   "metadata": {},
   "outputs": [],
   "source": [
    "clus_playlist.columns"
   ]
  },
  {
   "cell_type": "code",
   "execution_count": null,
   "id": "84e12514",
   "metadata": {},
   "outputs": [],
   "source": [
    "top_100.head()"
   ]
  },
  {
   "cell_type": "markdown",
   "id": "ef6d6e7d",
   "metadata": {},
   "source": [
    "### Spotify Authetification"
   ]
  },
  {
   "cell_type": "code",
   "execution_count": null,
   "id": "1606fb02",
   "metadata": {},
   "outputs": [],
   "source": [
    "secrets_dict={} #convert the clientid and clientsecrets into dictionaries\n",
    "for line in string.split('\\n'):\n",
    "    if len(line) > 0: #if I don't have an empty line do next line.\n",
    "        secrets_dict[line.split(':')[0]]=line.split(':')[1].strip() #.strip remove xtra spaces."
   ]
  },
  {
   "cell_type": "code",
   "execution_count": null,
   "id": "c0786593",
   "metadata": {},
   "outputs": [],
   "source": [
    "import spotipy\n",
    "from spotipy.oauth2 import SpotifyClientCredentials\n",
    "\n",
    "#Initialize SpotiPy with user credentials\n",
    "sp = spotipy.Spotify(auth_manager=SpotifyClientCredentials(client_id=secrets_dict['clientid'],\n",
    "                                                           client_secret=secrets_dict['clientsecret']))"
   ]
  },
  {
   "cell_type": "code",
   "execution_count": null,
   "id": "ed3c79e8",
   "metadata": {},
   "outputs": [],
   "source": [
    "clus_playlist"
   ]
  },
  {
   "cell_type": "code",
   "execution_count": null,
   "id": "b00f4ac8",
   "metadata": {},
   "outputs": [],
   "source": [
    "song = input(\"Enter a song name: \")\n",
    "is_song_in_list = clus_playlist['Title'].isin([song]).any()\n",
    "client_id=secrets_dict['clientid']\n",
    "client_secret=secrets_dict['clientsecret']\n",
    "\n",
    "song = sp.search(q=song, type='track', limit=1)\n",
    "uri = song['tracks']['items'][0]['uri']\n",
    "audio_features = sp.audio_features(uri)"
   ]
  },
  {
   "cell_type": "code",
   "execution_count": null,
   "id": "38dca9e2",
   "metadata": {},
   "outputs": [],
   "source": []
  },
  {
   "cell_type": "markdown",
   "id": "1da89c12",
   "metadata": {},
   "source": [
    "#### ITERATION LOOP WITH TOP 100 HOT PLAYLIST"
   ]
  },
  {
   "cell_type": "code",
   "execution_count": null,
   "id": "af3e65f4",
   "metadata": {},
   "outputs": [],
   "source": [
    "# the user to enter a song name\n",
    "user_input = input(\"Enter a song name: \")\n",
    "\n",
    "# Check if the user-provided song name is in the 'Title' column from top_100\n",
    "if user_input in top_100['title'].values:\n",
    "    print(\"Your song is in the Top 100!\")\n",
    "\n",
    "# Getting another song title from the top_100 (excluding the user's song)\n",
    "other_songs = top_100[top_100['title'] != user_input]['title']\n",
    "recommended_song = other_songs.sample(n=1).values[0]\n",
    "\n",
    "    print(\"Additionally, I highly recommend this song from the Top 100 playlist:\", recommended_song)\n",
    "else:\n",
    "    print(\"Your song is not in the Top 100.\")"
   ]
  },
  {
   "cell_type": "code",
   "execution_count": null,
   "id": "c2c653c9",
   "metadata": {},
   "outputs": [],
   "source": [
    "audio_features"
   ]
  },
  {
   "cell_type": "code",
   "execution_count": null,
   "id": "74c04412",
   "metadata": {},
   "outputs": [],
   "source": [
    "audio_features_df = pd.DataFrame(audio_features, index=[0])"
   ]
  },
  {
   "cell_type": "code",
   "execution_count": null,
   "id": "47f415c9",
   "metadata": {},
   "outputs": [],
   "source": [
    "selected_columns = ['danceability', 'energy', 'loudness', 'speechiness', 'acousticness', 'instrumentalness', 'liveness', 'valence', 'tempo', 'duration_ms', 'time_signature']\n",
    "audio_song = audio_features_df[selected_columns]"
   ]
  },
  {
   "cell_type": "code",
   "execution_count": null,
   "id": "742ce91f",
   "metadata": {},
   "outputs": [],
   "source": [
    "audio_song "
   ]
  },
  {
   "cell_type": "code",
   "execution_count": null,
   "id": "ba69570a",
   "metadata": {},
   "outputs": [],
   "source": [
    "audio_song = scaler.transform(audio_song)"
   ]
  },
  {
   "cell_type": "code",
   "execution_count": null,
   "id": "d2815257",
   "metadata": {},
   "outputs": [],
   "source": [
    "cluster_number = kmeans.predict(audio_song)"
   ]
  },
  {
   "cell_type": "code",
   "execution_count": null,
   "id": "ba4ff628",
   "metadata": {},
   "outputs": [],
   "source": [
    "list(cluster_number)[0]"
   ]
  },
  {
   "cell_type": "code",
   "execution_count": null,
   "id": "58c05bb4",
   "metadata": {},
   "outputs": [],
   "source": [
    "recommend_cluster = playlist_final[playlist_final['cluster']== list(cluster_number)[0]]"
   ]
  },
  {
   "cell_type": "code",
   "execution_count": null,
   "id": "430486c9",
   "metadata": {},
   "outputs": [],
   "source": [
    "recommend_cluster['name']"
   ]
  },
  {
   "cell_type": "code",
   "execution_count": null,
   "id": "eca28c4d",
   "metadata": {},
   "outputs": [],
   "source": [
    "recommend_cluster.sample()"
   ]
  },
  {
   "cell_type": "markdown",
   "id": "905a95c4",
   "metadata": {},
   "source": [
    "### RECOMMENDATOR "
   ]
  },
  {
   "cell_type": "code",
   "execution_count": null,
   "id": "e76d2d6f",
   "metadata": {},
   "outputs": [],
   "source": [
    "def recommend_song():\n",
    "    song = input(\"Enter a song name: \")\n",
    "    #is_song_in_list = playlist_final['name'].isin([song]).any()\n",
    "    client_id=secrets_dict['clientid']\n",
    "    client_secret=secrets_dict['clientsecret']\n",
    "    sp = spotipy.Spotify(auth_manager=SpotifyClientCredentials(client_id=secrets_dict['clientid'],\n",
    "                                                           client_secret=secrets_dict['clientsecret'])) \n",
    "    if song in list(top_100['title']):\n",
    "        recommended_song = top_100.sample(n=1)['title'].values[0]\n",
    "        print(\"Your song is in the Top 100 list!\")\n",
    "        print(\"Here's another recommended song:\", recommended_song)\n",
    "    \n",
    "    else:\n",
    "        song = sp.search(q=song, type='track', limit=1)\n",
    "        uri = song['tracks']['items'][0]['uri']\n",
    "        audio_features = sp.audio_features(uri)\n",
    "        audio_features_df = pd.DataFrame(audio_features, index=[0])\n",
    "        selected_columns = ['danceability', 'energy', 'loudness', 'speechiness', 'acousticness', 'instrumentalness', 'liveness', 'valence', 'tempo', 'duration_ms', 'time_signature']\n",
    "        audio_song = audio_features_df[selected_columns]\n",
    "        audio_song = scaler.transform(audio_song) \n",
    "        cluster_number = kmeans.predict(audio_song)\n",
    "        recommend_cluster = playlist_final[playlist_final['cluster']== list(cluster_number)[0]]\n",
    "        rec = recommend_cluster.sample()\n",
    "        \n",
    "        print(\"Here's another recommended song:\", rec[['name','artist']])"
   ]
  },
  {
   "cell_type": "code",
   "execution_count": null,
   "id": "2b227696",
   "metadata": {},
   "outputs": [],
   "source": [
    "recommend_song()"
   ]
  },
  {
   "cell_type": "code",
   "execution_count": null,
   "id": "e65aadf5",
   "metadata": {},
   "outputs": [],
   "source": []
  }
 ],
 "metadata": {
  "kernelspec": {
   "display_name": "Python 3 (ipykernel)",
   "language": "python",
   "name": "python3"
  },
  "language_info": {
   "codemirror_mode": {
    "name": "ipython",
    "version": 3
   },
   "file_extension": ".py",
   "mimetype": "text/x-python",
   "name": "python",
   "nbconvert_exporter": "python",
   "pygments_lexer": "ipython3",
   "version": "3.10.9"
  }
 },
 "nbformat": 4,
 "nbformat_minor": 5
}
