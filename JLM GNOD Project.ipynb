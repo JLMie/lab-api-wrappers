{
 "cells": [
  {
   "cell_type": "markdown",
   "id": "75d5f89b",
   "metadata": {},
   "source": [
    "#### Schema \n",
    "If input song in list(hot100 titles):\n",
    "Recommend another hot 100 song\n",
    "\n",
    "Else:\n",
    "Connect to spotipy with credentials\n",
    "Search the input_song for the song ID on Spotify\n",
    "With song_id find uri for song\n",
    "Use URI to get the audio_features for the song\n",
    "Put the audio_feeatures into a single row dataframe\n",
    "Use scaler to scale the single row\n",
    "Use the Kmeans model to predict the cluster for the input_song\n",
    "Recommend another song from the same cluster"
   ]
  },
  {
   "cell_type": "markdown",
   "id": "ef826de1",
   "metadata": {},
   "source": [
    "### Import all libraries to be used"
   ]
  },
  {
   "cell_type": "code",
   "execution_count": 8,
   "id": "7edcac83",
   "metadata": {},
   "outputs": [],
   "source": [
    "import pandas as pd\n",
    "import numpy as np\n",
    "import pickle\n",
    "import random\n",
    "import matplotlib.pyplot as plt\n",
    "from sklearn.preprocessing import StandardScaler\n",
    "from sklearn import cluster, datasets\n",
    "import spotipy\n",
    "from spotipy.oauth2 import SpotifyClientCredentials"
   ]
  },
  {
   "cell_type": "markdown",
   "id": "ad784164",
   "metadata": {},
   "source": [
    "### Pickle save your kmeans model and scaler to use again"
   ]
  },
  {
   "cell_type": "code",
   "execution_count": 14,
   "id": "5f5da758",
   "metadata": {
    "scrolled": true
   },
   "outputs": [
    {
     "ename": "FileNotFoundError",
     "evalue": "[Errno 2] No such file or directory: 'scaler.pkl'",
     "output_type": "error",
     "traceback": [
      "\u001b[1;31m---------------------------------------------------------------------------\u001b[0m",
      "\u001b[1;31mFileNotFoundError\u001b[0m                         Traceback (most recent call last)",
      "Cell \u001b[1;32mIn[14], line 4\u001b[0m\n\u001b[0;32m      1\u001b[0m \u001b[38;5;66;03m#I DID NOT ATTEND WHEN WE HAD TO SAVE AN SCALER.PKL AND KMEANS.PKL FOR THIS LAB\u001b[39;00m\n\u001b[0;32m      2\u001b[0m \u001b[38;5;66;03m#The open() function is used to open the file in binary mode ('rb'), which is required for reading binary files.\u001b[39;00m\n\u001b[0;32m      3\u001b[0m \u001b[38;5;66;03m#The pickle.load() function is then used to deserialize the object from the file.\u001b[39;00m\n\u001b[1;32m----> 4\u001b[0m scaler \u001b[38;5;241m=\u001b[39m pickle\u001b[38;5;241m.\u001b[39mload(\u001b[38;5;28;43mopen\u001b[39;49m\u001b[43m(\u001b[49m\u001b[38;5;124;43m'\u001b[39;49m\u001b[38;5;124;43mscaler.pkl\u001b[39;49m\u001b[38;5;124;43m'\u001b[39;49m\u001b[43m,\u001b[49m\u001b[38;5;124;43m'\u001b[39;49m\u001b[38;5;124;43mrb\u001b[39;49m\u001b[38;5;124;43m'\u001b[39;49m\u001b[43m)\u001b[49m)\n\u001b[0;32m      5\u001b[0m kmeans \u001b[38;5;241m=\u001b[39m pickle\u001b[38;5;241m.\u001b[39mload(\u001b[38;5;28mopen\u001b[39m(\u001b[38;5;124m'\u001b[39m\u001b[38;5;124mkmeans.pkl\u001b[39m\u001b[38;5;124m'\u001b[39m,\u001b[38;5;124m'\u001b[39m\u001b[38;5;124mrb\u001b[39m\u001b[38;5;124m'\u001b[39m))\n",
      "File \u001b[1;32m~\\AppData\\Roaming\\Python\\Python310\\site-packages\\IPython\\core\\interactiveshell.py:284\u001b[0m, in \u001b[0;36m_modified_open\u001b[1;34m(file, *args, **kwargs)\u001b[0m\n\u001b[0;32m    277\u001b[0m \u001b[38;5;28;01mif\u001b[39;00m file \u001b[38;5;129;01min\u001b[39;00m {\u001b[38;5;241m0\u001b[39m, \u001b[38;5;241m1\u001b[39m, \u001b[38;5;241m2\u001b[39m}:\n\u001b[0;32m    278\u001b[0m     \u001b[38;5;28;01mraise\u001b[39;00m \u001b[38;5;167;01mValueError\u001b[39;00m(\n\u001b[0;32m    279\u001b[0m         \u001b[38;5;124mf\u001b[39m\u001b[38;5;124m\"\u001b[39m\u001b[38;5;124mIPython won\u001b[39m\u001b[38;5;124m'\u001b[39m\u001b[38;5;124mt let you open fd=\u001b[39m\u001b[38;5;132;01m{\u001b[39;00mfile\u001b[38;5;132;01m}\u001b[39;00m\u001b[38;5;124m by default \u001b[39m\u001b[38;5;124m\"\u001b[39m\n\u001b[0;32m    280\u001b[0m         \u001b[38;5;124m\"\u001b[39m\u001b[38;5;124mas it is likely to crash IPython. If you know what you are doing, \u001b[39m\u001b[38;5;124m\"\u001b[39m\n\u001b[0;32m    281\u001b[0m         \u001b[38;5;124m\"\u001b[39m\u001b[38;5;124myou can use builtins\u001b[39m\u001b[38;5;124m'\u001b[39m\u001b[38;5;124m open.\u001b[39m\u001b[38;5;124m\"\u001b[39m\n\u001b[0;32m    282\u001b[0m     )\n\u001b[1;32m--> 284\u001b[0m \u001b[38;5;28;01mreturn\u001b[39;00m io_open(file, \u001b[38;5;241m*\u001b[39margs, \u001b[38;5;241m*\u001b[39m\u001b[38;5;241m*\u001b[39mkwargs)\n",
      "\u001b[1;31mFileNotFoundError\u001b[0m: [Errno 2] No such file or directory: 'scaler.pkl'"
     ]
    }
   ],
   "source": [
    "#I DID NOT ATTEND WHEN WE HAD TO SAVE AN SCALER.PKL AND KMEANS.PKL FOR THIS LAB\n",
    "#The open() function is used to open the file in binary mode ('rb'), which is required for reading binary files.\n",
    "#The pickle.load() function is then used to deserialize the object from the file.\n",
    "\n",
    "scaler = pickle.load(open('model.pkl','rb'))\n",
    "kmeans = pickle.load(open('kmeans.pkl','rb'))"
   ]
  },
  {
   "cell_type": "code",
   "execution_count": 15,
   "id": "b25f0ba8",
   "metadata": {},
   "outputs": [
    {
     "ename": "UnsupportedOperation",
     "evalue": "read",
     "output_type": "error",
     "traceback": [
      "\u001b[1;31m---------------------------------------------------------------------------\u001b[0m",
      "\u001b[1;31mUnsupportedOperation\u001b[0m                      Traceback (most recent call last)",
      "Cell \u001b[1;32mIn[15], line 3\u001b[0m\n\u001b[0;32m      1\u001b[0m filename \u001b[38;5;241m=\u001b[39m \u001b[38;5;124m'\u001b[39m\u001b[38;5;124mcd.pkl\u001b[39m\u001b[38;5;124m'\u001b[39m\n\u001b[0;32m      2\u001b[0m \u001b[38;5;28;01mwith\u001b[39;00m \u001b[38;5;28mopen\u001b[39m(filename, \u001b[38;5;124m'\u001b[39m\u001b[38;5;124mwb\u001b[39m\u001b[38;5;124m'\u001b[39m) \u001b[38;5;28;01mas\u001b[39;00m f:\n\u001b[1;32m----> 3\u001b[0m     classification_dict \u001b[38;5;241m=\u001b[39m \u001b[43mpickle\u001b[49m\u001b[38;5;241;43m.\u001b[39;49m\u001b[43mload\u001b[49m\u001b[43m(\u001b[49m\u001b[43mf\u001b[49m\u001b[43m)\u001b[49m\n",
      "\u001b[1;31mUnsupportedOperation\u001b[0m: read"
     ]
    }
   ],
   "source": [
    "filename = 'cd.pkl'\n",
    "with open(filename, 'wb') as f:\n",
    "    classification_dict = pickle.load(f)"
   ]
  },
  {
   "cell_type": "code",
   "execution_count": 2,
   "id": "80e98c49",
   "metadata": {},
   "outputs": [
    {
     "ename": "NameError",
     "evalue": "name 'kmeans' is not defined",
     "output_type": "error",
     "traceback": [
      "\u001b[1;31m---------------------------------------------------------------------------\u001b[0m",
      "\u001b[1;31mNameError\u001b[0m                                 Traceback (most recent call last)",
      "Cell \u001b[1;32mIn[2], line 1\u001b[0m\n\u001b[1;32m----> 1\u001b[0m \u001b[43mkmeans\u001b[49m\n",
      "\u001b[1;31mNameError\u001b[0m: name 'kmeans' is not defined"
     ]
    }
   ],
   "source": [
    "kmeans"
   ]
  },
  {
   "cell_type": "markdown",
   "id": "c4f28089",
   "metadata": {},
   "source": [
    "### Import all needed .csv files and pickles"
   ]
  },
  {
   "cell_type": "code",
   "execution_count": null,
   "id": "6a44e345",
   "metadata": {},
   "outputs": [],
   "source": [
    "clus_playlist = pd.read_csv(\"clus_playlist.csv\")\n",
    "top_100 = pd.read_csv(\"music_top100.csv\")"
   ]
  },
  {
   "cell_type": "code",
   "execution_count": null,
   "id": "c9e77b7a",
   "metadata": {},
   "outputs": [],
   "source": [
    "clus_playlist.columns"
   ]
  },
  {
   "cell_type": "code",
   "execution_count": null,
   "id": "84e12514",
   "metadata": {},
   "outputs": [],
   "source": [
    "top_100.head()"
   ]
  },
  {
   "cell_type": "code",
   "execution_count": null,
   "id": "af3e65f4",
   "metadata": {},
   "outputs": [],
   "source": [
    "# the user to enter a song name\n",
    "user_input = input(\"Enter a song name: \")\n",
    "\n",
    "# Check if the user-provided song name is in the 'Title' column from top_100\n",
    "if user_input in top_100['title'].values:\n",
    "    print(\"Your song is in the Top 100!\")\n",
    "\n",
    "# Getting another song title from the top_100 (excluding the user's song)\n",
    "other_songs = top_100[top_100['title'] != user_input]['title']\n",
    "recommended_song = other_songs.sample(n=1).values[0]\n",
    "\n",
    "    print(\"Additionally, I highly recommend this song from the Top 100 playlist:\", recommended_song)\n",
    "else:\n",
    "    print(\"Your song is not in the Top 100.\")"
   ]
  },
  {
   "cell_type": "markdown",
   "id": "67b09c7e",
   "metadata": {},
   "source": [
    "### Make a connection to Spotify"
   ]
  },
  {
   "cell_type": "markdown",
   "id": "b4108d8a",
   "metadata": {},
   "source": [
    "### Copy/paste your recommender into new notebook."
   ]
  },
  {
   "cell_type": "code",
   "execution_count": null,
   "id": "e76d2d6f",
   "metadata": {},
   "outputs": [],
   "source": []
  }
 ],
 "metadata": {
  "kernelspec": {
   "display_name": "Python 3 (ipykernel)",
   "language": "python",
   "name": "python3"
  },
  "language_info": {
   "codemirror_mode": {
    "name": "ipython",
    "version": 3
   },
   "file_extension": ".py",
   "mimetype": "text/x-python",
   "name": "python",
   "nbconvert_exporter": "python",
   "pygments_lexer": "ipython3",
   "version": "3.10.9"
  }
 },
 "nbformat": 4,
 "nbformat_minor": 5
}
